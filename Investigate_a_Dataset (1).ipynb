{
 "cells": [
  {
   "cell_type": "markdown",
   "metadata": {},
   "source": [
    "\n",
    "# Project: Investigate a Dataset - No-Show Appointments\n",
    "\n",
    "## Table of Contents\n",
    "<ul>\n",
    "<li><a href=\"#intro\">Introduction</a></li>\n",
    "<li><a href=\"#wrangling\">Data Wrangling</a></li>\n",
    "<li><a href=\"#Cleaning\">Data Cleaning</a></li>\n",
    "<li><a href=\"#eda\">Exploratory Data Analysis</a></li>\n",
    "<li><a href=\"#conclusions\">Conclusions</a></li>\n",
    "</ul>"
   ]
  },
  {
   "cell_type": "code",
   "execution_count": null,
   "metadata": {},
   "outputs": [],
   "source": []
  },
  {
   "cell_type": "markdown",
   "metadata": {},
   "source": [
    "<a id='intro'></a>\n",
    "## Introduction\n",
    "\n",
    " **About the Dataset** \n",
    "\n",
    "This dataset collects information from 100k medical appointments in Brazil and is focused on the question of whether or not patients show up for their appointment. A number of characteristics about the patient are included in each row.<br><br>\n",
    "### **Dataset Description**\n",
    "The Dataset contains 110527 **observations**, and 14 **Variables**.More Variables were created to aid the analysis.\n",
    "\n",
    "<ol>\n",
    "    <li><h4>patient_id</h4>This is a unique Id assigned to each patient</li>\n",
    "    <li><h4>appointment_id</h4>This is also a unique for appointments made by patients </li>\n",
    "    <li><h4>gender</h4> Takes two Values M and F , denoting Male and Female gender respectively</li>\n",
    "<li><h4>scheduled_date</h4>The date a patient comes to make an appointment ,also unique.</li>\n",
    "    <li><h4>appointment_date</h4>The date an appointment is meant to occur ,also unique </li>\n",
    "    <li><h4>age</h4> The respective ages of each patients,they are of numeric value  </li>\n",
    "<li><h4>neighbourhood</h4> indicates the location of the hospital.</li>\n",
    "<li><h4>scholarship</h4>indicates whether or not the patient is enrolled in Brasilian welfare program</li>\n",
    "<li><h4>hypertension</h4> 0  if you a patient is  not hypertensive ,1 if they are </li>\n",
    "<li><h4>diabetes</h4>0 if a patient is not diabetic and 1 if they are </li>\n",
    "<li><h4>alcoholism</h4>0 if patients arent alcoholic and 1 if they are </li>\n",
    "<li><h4>handicap</h4> Values betwwen 0 and 4 , zero if a patient isnt handicapped ,other numbers shows the specificity of the handicapness</li>\n",
    "<li><h4>sms</h4>  zero if a patient doesnt receive an sms reminder for their appointment date and one if they did\n",
    "</li>\n",
    "<li><h4>no_show</h4> No if the patient showed up to their appointment, and Yes if they did not show up\n",
    "    </li>\n",
    "<li><h4>scheduled_day</h4> newly created variable from the scheduling date variable ,indicates day of the week a patient comes for scheduling \n",
    " </li>\n",
    "<li><h4>appointment_day</h4>  newly created variable from the appointment  variable indicates  day of the week a patient comes for appointment\n",
    " </li>\n",
    "<li> <h4>days_apart</h4> The day(s) difference between the scheduling date and appointment date </li>\n",
    " <li><h4>age_groups</h4> newly created variable from the age columns ,ages were split into 7 categories</li>\n",
    "</ol>\n",
    "\n",
    "\n",
    "### Business Problem\n",
    "What factors are important for us to know in order to predict if a patient will show up for their scheduled appointment?\n"
   ]
  },
  {
   "cell_type": "code",
   "execution_count": 1,
   "metadata": {},
   "outputs": [],
   "source": [
    "## importing the required libraries \n",
    "import pandas as pd \n",
    "import numpy as np \n",
    "import seaborn  as sns \n",
    "import matplotlib.pyplot as plt \n",
    "%matplotlib inline\n"
   ]
  },
  {
   "cell_type": "code",
   "execution_count": 2,
   "metadata": {},
   "outputs": [
    {
     "data": {
      "text/html": [
       "<div>\n",
       "<style scoped>\n",
       "    .dataframe tbody tr th:only-of-type {\n",
       "        vertical-align: middle;\n",
       "    }\n",
       "\n",
       "    .dataframe tbody tr th {\n",
       "        vertical-align: top;\n",
       "    }\n",
       "\n",
       "    .dataframe thead th {\n",
       "        text-align: right;\n",
       "    }\n",
       "</style>\n",
       "<table border=\"1\" class=\"dataframe\">\n",
       "  <thead>\n",
       "    <tr style=\"text-align: right;\">\n",
       "      <th></th>\n",
       "      <th>PatientId</th>\n",
       "      <th>AppointmentID</th>\n",
       "      <th>Gender</th>\n",
       "      <th>ScheduledDay</th>\n",
       "      <th>AppointmentDay</th>\n",
       "      <th>Age</th>\n",
       "      <th>Neighbourhood</th>\n",
       "      <th>Scholarship</th>\n",
       "      <th>Hipertension</th>\n",
       "      <th>Diabetes</th>\n",
       "      <th>Alcoholism</th>\n",
       "      <th>Handcap</th>\n",
       "      <th>SMS_received</th>\n",
       "      <th>No-show</th>\n",
       "    </tr>\n",
       "  </thead>\n",
       "  <tbody>\n",
       "    <tr>\n",
       "      <th>0</th>\n",
       "      <td>2.987250e+13</td>\n",
       "      <td>5642903</td>\n",
       "      <td>F</td>\n",
       "      <td>2016-04-29T18:38:08Z</td>\n",
       "      <td>2016-04-29T00:00:00Z</td>\n",
       "      <td>62</td>\n",
       "      <td>JARDIM DA PENHA</td>\n",
       "      <td>0</td>\n",
       "      <td>1</td>\n",
       "      <td>0</td>\n",
       "      <td>0</td>\n",
       "      <td>0</td>\n",
       "      <td>0</td>\n",
       "      <td>No</td>\n",
       "    </tr>\n",
       "    <tr>\n",
       "      <th>1</th>\n",
       "      <td>5.589978e+14</td>\n",
       "      <td>5642503</td>\n",
       "      <td>M</td>\n",
       "      <td>2016-04-29T16:08:27Z</td>\n",
       "      <td>2016-04-29T00:00:00Z</td>\n",
       "      <td>56</td>\n",
       "      <td>JARDIM DA PENHA</td>\n",
       "      <td>0</td>\n",
       "      <td>0</td>\n",
       "      <td>0</td>\n",
       "      <td>0</td>\n",
       "      <td>0</td>\n",
       "      <td>0</td>\n",
       "      <td>No</td>\n",
       "    </tr>\n",
       "    <tr>\n",
       "      <th>2</th>\n",
       "      <td>4.262962e+12</td>\n",
       "      <td>5642549</td>\n",
       "      <td>F</td>\n",
       "      <td>2016-04-29T16:19:04Z</td>\n",
       "      <td>2016-04-29T00:00:00Z</td>\n",
       "      <td>62</td>\n",
       "      <td>MATA DA PRAIA</td>\n",
       "      <td>0</td>\n",
       "      <td>0</td>\n",
       "      <td>0</td>\n",
       "      <td>0</td>\n",
       "      <td>0</td>\n",
       "      <td>0</td>\n",
       "      <td>No</td>\n",
       "    </tr>\n",
       "    <tr>\n",
       "      <th>3</th>\n",
       "      <td>8.679512e+11</td>\n",
       "      <td>5642828</td>\n",
       "      <td>F</td>\n",
       "      <td>2016-04-29T17:29:31Z</td>\n",
       "      <td>2016-04-29T00:00:00Z</td>\n",
       "      <td>8</td>\n",
       "      <td>PONTAL DE CAMBURI</td>\n",
       "      <td>0</td>\n",
       "      <td>0</td>\n",
       "      <td>0</td>\n",
       "      <td>0</td>\n",
       "      <td>0</td>\n",
       "      <td>0</td>\n",
       "      <td>No</td>\n",
       "    </tr>\n",
       "    <tr>\n",
       "      <th>4</th>\n",
       "      <td>8.841186e+12</td>\n",
       "      <td>5642494</td>\n",
       "      <td>F</td>\n",
       "      <td>2016-04-29T16:07:23Z</td>\n",
       "      <td>2016-04-29T00:00:00Z</td>\n",
       "      <td>56</td>\n",
       "      <td>JARDIM DA PENHA</td>\n",
       "      <td>0</td>\n",
       "      <td>1</td>\n",
       "      <td>1</td>\n",
       "      <td>0</td>\n",
       "      <td>0</td>\n",
       "      <td>0</td>\n",
       "      <td>No</td>\n",
       "    </tr>\n",
       "  </tbody>\n",
       "</table>\n",
       "</div>"
      ],
      "text/plain": [
       "      PatientId  AppointmentID Gender          ScheduledDay  \\\n",
       "0  2.987250e+13        5642903      F  2016-04-29T18:38:08Z   \n",
       "1  5.589978e+14        5642503      M  2016-04-29T16:08:27Z   \n",
       "2  4.262962e+12        5642549      F  2016-04-29T16:19:04Z   \n",
       "3  8.679512e+11        5642828      F  2016-04-29T17:29:31Z   \n",
       "4  8.841186e+12        5642494      F  2016-04-29T16:07:23Z   \n",
       "\n",
       "         AppointmentDay  Age      Neighbourhood  Scholarship  Hipertension  \\\n",
       "0  2016-04-29T00:00:00Z   62    JARDIM DA PENHA            0             1   \n",
       "1  2016-04-29T00:00:00Z   56    JARDIM DA PENHA            0             0   \n",
       "2  2016-04-29T00:00:00Z   62      MATA DA PRAIA            0             0   \n",
       "3  2016-04-29T00:00:00Z    8  PONTAL DE CAMBURI            0             0   \n",
       "4  2016-04-29T00:00:00Z   56    JARDIM DA PENHA            0             1   \n",
       "\n",
       "   Diabetes  Alcoholism  Handcap  SMS_received No-show  \n",
       "0         0           0        0             0      No  \n",
       "1         0           0        0             0      No  \n",
       "2         0           0        0             0      No  \n",
       "3         0           0        0             0      No  \n",
       "4         1           0        0             0      No  "
      ]
     },
     "execution_count": 2,
     "metadata": {},
     "output_type": "execute_result"
    }
   ],
   "source": [
    "## reading the Dataset into the jupyter environment with pandas\n",
    "df=pd.read_csv('Database_No_show_appointments/noshowappointments-kagglev2-may-2016.csv')\n",
    "df.head()"
   ]
  },
  {
   "cell_type": "code",
   "execution_count": 3,
   "metadata": {},
   "outputs": [
    {
     "data": {
      "text/plain": [
       "(110527, 14)"
      ]
     },
     "execution_count": 3,
     "metadata": {},
     "output_type": "execute_result"
    }
   ],
   "source": [
    "df.shape"
   ]
  },
  {
   "cell_type": "markdown",
   "metadata": {},
   "source": [
    "**Dimension of Dataset:** <br>\n",
    "The Dataset comprises of **110527** observations(rows) and **14** Variables(columns)"
   ]
  },
  {
   "cell_type": "markdown",
   "metadata": {},
   "source": [
    "<a id='wrangling'></a>\n",
    "## Data Wrangling\n"
   ]
  },
  {
   "cell_type": "markdown",
   "metadata": {},
   "source": [
    "**Checking the  Data types of the Dataset Variables**"
   ]
  },
  {
   "cell_type": "code",
   "execution_count": 4,
   "metadata": {},
   "outputs": [
    {
     "data": {
      "text/plain": [
       "PatientId         float64\n",
       "AppointmentID       int64\n",
       "Gender             object\n",
       "ScheduledDay       object\n",
       "AppointmentDay     object\n",
       "Age                 int64\n",
       "Neighbourhood      object\n",
       "Scholarship         int64\n",
       "Hipertension        int64\n",
       "Diabetes            int64\n",
       "Alcoholism          int64\n",
       "Handcap             int64\n",
       "SMS_received        int64\n",
       "No-show            object\n",
       "dtype: object"
      ]
     },
     "execution_count": 4,
     "metadata": {},
     "output_type": "execute_result"
    }
   ],
   "source": [
    "df.dtypes"
   ]
  },
  {
   "cell_type": "markdown",
   "metadata": {},
   "source": [
    "**The days related variable{scheduled_day ,appointment_day} are formatted as object as opposed to being formatted as Datetime**"
   ]
  },
  {
   "cell_type": "markdown",
   "metadata": {},
   "source": [
    "**Checking for Nulls and possible Duplicates**"
   ]
  },
  {
   "cell_type": "code",
   "execution_count": 5,
   "metadata": {},
   "outputs": [
    {
     "data": {
      "text/plain": [
       "PatientId         0\n",
       "AppointmentID     0\n",
       "Gender            0\n",
       "ScheduledDay      0\n",
       "AppointmentDay    0\n",
       "Age               0\n",
       "Neighbourhood     0\n",
       "Scholarship       0\n",
       "Hipertension      0\n",
       "Diabetes          0\n",
       "Alcoholism        0\n",
       "Handcap           0\n",
       "SMS_received      0\n",
       "No-show           0\n",
       "dtype: int64"
      ]
     },
     "execution_count": 5,
     "metadata": {},
     "output_type": "execute_result"
    }
   ],
   "source": [
    "df.isnull().sum()"
   ]
  },
  {
   "cell_type": "code",
   "execution_count": 6,
   "metadata": {},
   "outputs": [
    {
     "data": {
      "text/plain": [
       "0"
      ]
     },
     "execution_count": 6,
     "metadata": {},
     "output_type": "execute_result"
    }
   ],
   "source": [
    "df.duplicated().sum()"
   ]
  },
  {
   "cell_type": "markdown",
   "metadata": {},
   "source": [
    "**No Nulls or Duplicates  found**"
   ]
  },
  {
   "cell_type": "markdown",
   "metadata": {},
   "source": [
    "**Column names**"
   ]
  },
  {
   "cell_type": "code",
   "execution_count": 7,
   "metadata": {},
   "outputs": [
    {
     "data": {
      "text/plain": [
       "Index(['PatientId', 'AppointmentID', 'Gender', 'ScheduledDay',\n",
       "       'AppointmentDay', 'Age', 'Neighbourhood', 'Scholarship', 'Hipertension',\n",
       "       'Diabetes', 'Alcoholism', 'Handcap', 'SMS_received', 'No-show'],\n",
       "      dtype='object')"
      ]
     },
     "execution_count": 7,
     "metadata": {},
     "output_type": "execute_result"
    }
   ],
   "source": [
    "df.columns"
   ]
  },
  {
   "cell_type": "markdown",
   "metadata": {},
   "source": [
    "The Columns need to be of the same format,while some needs respelling   "
   ]
  },
  {
   "cell_type": "markdown",
   "metadata": {},
   "source": [
    "**Calling the nunique method on the Variables**"
   ]
  },
  {
   "cell_type": "code",
   "execution_count": 8,
   "metadata": {},
   "outputs": [
    {
     "data": {
      "text/plain": [
       "PatientId          62299\n",
       "AppointmentID     110527\n",
       "Gender                 2\n",
       "ScheduledDay      103549\n",
       "AppointmentDay        27\n",
       "Age                  104\n",
       "Neighbourhood         81\n",
       "Scholarship            2\n",
       "Hipertension           2\n",
       "Diabetes               2\n",
       "Alcoholism             2\n",
       "Handcap                5\n",
       "SMS_received           2\n",
       "No-show                2\n",
       "dtype: int64"
      ]
     },
     "execution_count": 8,
     "metadata": {},
     "output_type": "execute_result"
    }
   ],
   "source": [
    "df.nunique()"
   ]
  },
  {
   "cell_type": "code",
   "execution_count": 9,
   "metadata": {},
   "outputs": [
    {
     "data": {
      "text/html": [
       "<div>\n",
       "<style scoped>\n",
       "    .dataframe tbody tr th:only-of-type {\n",
       "        vertical-align: middle;\n",
       "    }\n",
       "\n",
       "    .dataframe tbody tr th {\n",
       "        vertical-align: top;\n",
       "    }\n",
       "\n",
       "    .dataframe thead th {\n",
       "        text-align: right;\n",
       "    }\n",
       "</style>\n",
       "<table border=\"1\" class=\"dataframe\">\n",
       "  <thead>\n",
       "    <tr style=\"text-align: right;\">\n",
       "      <th></th>\n",
       "      <th>AppointmentDay</th>\n",
       "      <th>ScheduledDay</th>\n",
       "    </tr>\n",
       "  </thead>\n",
       "  <tbody>\n",
       "    <tr>\n",
       "      <th>0</th>\n",
       "      <td>2016-04-29T00:00:00Z</td>\n",
       "      <td>2016-04-29T18:38:08Z</td>\n",
       "    </tr>\n",
       "    <tr>\n",
       "      <th>1</th>\n",
       "      <td>2016-04-29T00:00:00Z</td>\n",
       "      <td>2016-04-29T16:08:27Z</td>\n",
       "    </tr>\n",
       "    <tr>\n",
       "      <th>2</th>\n",
       "      <td>2016-04-29T00:00:00Z</td>\n",
       "      <td>2016-04-29T16:19:04Z</td>\n",
       "    </tr>\n",
       "    <tr>\n",
       "      <th>3</th>\n",
       "      <td>2016-04-29T00:00:00Z</td>\n",
       "      <td>2016-04-29T17:29:31Z</td>\n",
       "    </tr>\n",
       "  </tbody>\n",
       "</table>\n",
       "</div>"
      ],
      "text/plain": [
       "         AppointmentDay          ScheduledDay\n",
       "0  2016-04-29T00:00:00Z  2016-04-29T18:38:08Z\n",
       "1  2016-04-29T00:00:00Z  2016-04-29T16:08:27Z\n",
       "2  2016-04-29T00:00:00Z  2016-04-29T16:19:04Z\n",
       "3  2016-04-29T00:00:00Z  2016-04-29T17:29:31Z"
      ]
     },
     "execution_count": 9,
     "metadata": {},
     "output_type": "execute_result"
    }
   ],
   "source": [
    "df[['AppointmentDay','ScheduledDay']].head(4)"
   ]
  },
  {
   "cell_type": "markdown",
   "metadata": {},
   "source": [
    "AppointmentDay is a  Date value(i.e,No time) ,while the ScheduledDay Takes a Datetime Value ,Hence why it has more unique values compared to AppointmentDay "
   ]
  },
  {
   "cell_type": "markdown",
   "metadata": {},
   "source": [
    "**Eight  of the Fourteen(8/14) Variables are  Categorical,hence  will   be formatted  as such**"
   ]
  },
  {
   "cell_type": "markdown",
   "metadata": {},
   "source": [
    "<a id='cleaning'></a>\n",
    "\n",
    "### Data Cleaning\n",
    "**In this phase ,issues raised in the Data Wrangling Phase will be Treated**"
   ]
  },
  {
   "cell_type": "markdown",
   "metadata": {},
   "source": [
    "**Formatting the Variable Names**"
   ]
  },
  {
   "cell_type": "code",
   "execution_count": 10,
   "metadata": {},
   "outputs": [
    {
     "data": {
      "text/html": [
       "<div>\n",
       "<style scoped>\n",
       "    .dataframe tbody tr th:only-of-type {\n",
       "        vertical-align: middle;\n",
       "    }\n",
       "\n",
       "    .dataframe tbody tr th {\n",
       "        vertical-align: top;\n",
       "    }\n",
       "\n",
       "    .dataframe thead th {\n",
       "        text-align: right;\n",
       "    }\n",
       "</style>\n",
       "<table border=\"1\" class=\"dataframe\">\n",
       "  <thead>\n",
       "    <tr style=\"text-align: right;\">\n",
       "      <th></th>\n",
       "      <th>patient_id</th>\n",
       "      <th>appointment_id</th>\n",
       "      <th>gender</th>\n",
       "      <th>scheduled_date</th>\n",
       "      <th>appointment_date</th>\n",
       "      <th>age</th>\n",
       "      <th>neighbourhood</th>\n",
       "      <th>scholarship</th>\n",
       "      <th>hypertension</th>\n",
       "      <th>diabetes</th>\n",
       "      <th>alcoholism</th>\n",
       "      <th>handicap</th>\n",
       "      <th>sms</th>\n",
       "      <th>no_show</th>\n",
       "    </tr>\n",
       "  </thead>\n",
       "  <tbody>\n",
       "  </tbody>\n",
       "</table>\n",
       "</div>"
      ],
      "text/plain": [
       "Empty DataFrame\n",
       "Columns: [patient_id, appointment_id, gender, scheduled_date, appointment_date, age, neighbourhood, scholarship, hypertension, diabetes, alcoholism, handicap, sms, no_show]\n",
       "Index: []"
      ]
     },
     "execution_count": 10,
     "metadata": {},
     "output_type": "execute_result"
    }
   ],
   "source": [
    "df.rename(columns={'PatientId':'patient_id','Hipertension':'Hypertension','No-show':'No_show','AppointmentID':'Appointment_id','AppointmentDay':'appointment_date','ScheduledDay':'scheduled_date','SMS_received':'sms','Handcap':'handicap'},inplace=True)\n",
    "df= df.rename(columns=str.lower)\n",
    "df.head(0)"
   ]
  },
  {
   "cell_type": "markdown",
   "metadata": {},
   "source": [
    "**Data Type Assignment**"
   ]
  },
  {
   "cell_type": "code",
   "execution_count": 11,
   "metadata": {},
   "outputs": [],
   "source": [
    "df['appointment_date']= pd.to_datetime(df['appointment_date']).dt.normalize()\n",
    "df['scheduled_date']= pd.to_datetime(df['scheduled_date']).dt.normalize()"
   ]
  },
  {
   "cell_type": "code",
   "execution_count": 12,
   "metadata": {},
   "outputs": [
    {
     "data": {
      "text/plain": [
       "scheduled_date      datetime64[ns]\n",
       "appointment_date    datetime64[ns]\n",
       "dtype: object"
      ]
     },
     "execution_count": 12,
     "metadata": {},
     "output_type": "execute_result"
    }
   ],
   "source": [
    "df[['scheduled_date','appointment_date']].dtypes"
   ]
  },
  {
   "cell_type": "markdown",
   "metadata": {},
   "source": [
    "**Creating a Day of the Week Column and Day Difference column between Scheduled Date and Appointment  Date**"
   ]
  },
  {
   "cell_type": "code",
   "execution_count": 13,
   "metadata": {},
   "outputs": [
    {
     "data": {
      "text/html": [
       "<div>\n",
       "<style scoped>\n",
       "    .dataframe tbody tr th:only-of-type {\n",
       "        vertical-align: middle;\n",
       "    }\n",
       "\n",
       "    .dataframe tbody tr th {\n",
       "        vertical-align: top;\n",
       "    }\n",
       "\n",
       "    .dataframe thead th {\n",
       "        text-align: right;\n",
       "    }\n",
       "</style>\n",
       "<table border=\"1\" class=\"dataframe\">\n",
       "  <thead>\n",
       "    <tr style=\"text-align: right;\">\n",
       "      <th></th>\n",
       "      <th>patient_id</th>\n",
       "      <th>appointment_id</th>\n",
       "      <th>gender</th>\n",
       "      <th>scheduled_date</th>\n",
       "      <th>appointment_date</th>\n",
       "      <th>age</th>\n",
       "      <th>neighbourhood</th>\n",
       "      <th>scholarship</th>\n",
       "      <th>hypertension</th>\n",
       "      <th>diabetes</th>\n",
       "      <th>alcoholism</th>\n",
       "      <th>handicap</th>\n",
       "      <th>sms</th>\n",
       "      <th>no_show</th>\n",
       "      <th>scheduled_day</th>\n",
       "      <th>appointment_day</th>\n",
       "      <th>days_apart</th>\n",
       "    </tr>\n",
       "  </thead>\n",
       "  <tbody>\n",
       "    <tr>\n",
       "      <th>0</th>\n",
       "      <td>2.987250e+13</td>\n",
       "      <td>5642903</td>\n",
       "      <td>F</td>\n",
       "      <td>2016-04-29</td>\n",
       "      <td>2016-04-29</td>\n",
       "      <td>62</td>\n",
       "      <td>JARDIM DA PENHA</td>\n",
       "      <td>0</td>\n",
       "      <td>1</td>\n",
       "      <td>0</td>\n",
       "      <td>0</td>\n",
       "      <td>0</td>\n",
       "      <td>0</td>\n",
       "      <td>No</td>\n",
       "      <td>Friday</td>\n",
       "      <td>Friday</td>\n",
       "      <td>0</td>\n",
       "    </tr>\n",
       "    <tr>\n",
       "      <th>1</th>\n",
       "      <td>5.589978e+14</td>\n",
       "      <td>5642503</td>\n",
       "      <td>M</td>\n",
       "      <td>2016-04-29</td>\n",
       "      <td>2016-04-29</td>\n",
       "      <td>56</td>\n",
       "      <td>JARDIM DA PENHA</td>\n",
       "      <td>0</td>\n",
       "      <td>0</td>\n",
       "      <td>0</td>\n",
       "      <td>0</td>\n",
       "      <td>0</td>\n",
       "      <td>0</td>\n",
       "      <td>No</td>\n",
       "      <td>Friday</td>\n",
       "      <td>Friday</td>\n",
       "      <td>0</td>\n",
       "    </tr>\n",
       "    <tr>\n",
       "      <th>2</th>\n",
       "      <td>4.262962e+12</td>\n",
       "      <td>5642549</td>\n",
       "      <td>F</td>\n",
       "      <td>2016-04-29</td>\n",
       "      <td>2016-04-29</td>\n",
       "      <td>62</td>\n",
       "      <td>MATA DA PRAIA</td>\n",
       "      <td>0</td>\n",
       "      <td>0</td>\n",
       "      <td>0</td>\n",
       "      <td>0</td>\n",
       "      <td>0</td>\n",
       "      <td>0</td>\n",
       "      <td>No</td>\n",
       "      <td>Friday</td>\n",
       "      <td>Friday</td>\n",
       "      <td>0</td>\n",
       "    </tr>\n",
       "    <tr>\n",
       "      <th>3</th>\n",
       "      <td>8.679512e+11</td>\n",
       "      <td>5642828</td>\n",
       "      <td>F</td>\n",
       "      <td>2016-04-29</td>\n",
       "      <td>2016-04-29</td>\n",
       "      <td>8</td>\n",
       "      <td>PONTAL DE CAMBURI</td>\n",
       "      <td>0</td>\n",
       "      <td>0</td>\n",
       "      <td>0</td>\n",
       "      <td>0</td>\n",
       "      <td>0</td>\n",
       "      <td>0</td>\n",
       "      <td>No</td>\n",
       "      <td>Friday</td>\n",
       "      <td>Friday</td>\n",
       "      <td>0</td>\n",
       "    </tr>\n",
       "    <tr>\n",
       "      <th>4</th>\n",
       "      <td>8.841186e+12</td>\n",
       "      <td>5642494</td>\n",
       "      <td>F</td>\n",
       "      <td>2016-04-29</td>\n",
       "      <td>2016-04-29</td>\n",
       "      <td>56</td>\n",
       "      <td>JARDIM DA PENHA</td>\n",
       "      <td>0</td>\n",
       "      <td>1</td>\n",
       "      <td>1</td>\n",
       "      <td>0</td>\n",
       "      <td>0</td>\n",
       "      <td>0</td>\n",
       "      <td>No</td>\n",
       "      <td>Friday</td>\n",
       "      <td>Friday</td>\n",
       "      <td>0</td>\n",
       "    </tr>\n",
       "    <tr>\n",
       "      <th>5</th>\n",
       "      <td>9.598513e+13</td>\n",
       "      <td>5626772</td>\n",
       "      <td>F</td>\n",
       "      <td>2016-04-27</td>\n",
       "      <td>2016-04-29</td>\n",
       "      <td>76</td>\n",
       "      <td>REPÚBLICA</td>\n",
       "      <td>0</td>\n",
       "      <td>1</td>\n",
       "      <td>0</td>\n",
       "      <td>0</td>\n",
       "      <td>0</td>\n",
       "      <td>0</td>\n",
       "      <td>No</td>\n",
       "      <td>Wednesday</td>\n",
       "      <td>Friday</td>\n",
       "      <td>2</td>\n",
       "    </tr>\n",
       "    <tr>\n",
       "      <th>6</th>\n",
       "      <td>7.336882e+14</td>\n",
       "      <td>5630279</td>\n",
       "      <td>F</td>\n",
       "      <td>2016-04-27</td>\n",
       "      <td>2016-04-29</td>\n",
       "      <td>23</td>\n",
       "      <td>GOIABEIRAS</td>\n",
       "      <td>0</td>\n",
       "      <td>0</td>\n",
       "      <td>0</td>\n",
       "      <td>0</td>\n",
       "      <td>0</td>\n",
       "      <td>0</td>\n",
       "      <td>Yes</td>\n",
       "      <td>Wednesday</td>\n",
       "      <td>Friday</td>\n",
       "      <td>2</td>\n",
       "    </tr>\n",
       "    <tr>\n",
       "      <th>7</th>\n",
       "      <td>3.449833e+12</td>\n",
       "      <td>5630575</td>\n",
       "      <td>F</td>\n",
       "      <td>2016-04-27</td>\n",
       "      <td>2016-04-29</td>\n",
       "      <td>39</td>\n",
       "      <td>GOIABEIRAS</td>\n",
       "      <td>0</td>\n",
       "      <td>0</td>\n",
       "      <td>0</td>\n",
       "      <td>0</td>\n",
       "      <td>0</td>\n",
       "      <td>0</td>\n",
       "      <td>Yes</td>\n",
       "      <td>Wednesday</td>\n",
       "      <td>Friday</td>\n",
       "      <td>2</td>\n",
       "    </tr>\n",
       "    <tr>\n",
       "      <th>8</th>\n",
       "      <td>5.639473e+13</td>\n",
       "      <td>5638447</td>\n",
       "      <td>F</td>\n",
       "      <td>2016-04-29</td>\n",
       "      <td>2016-04-29</td>\n",
       "      <td>21</td>\n",
       "      <td>ANDORINHAS</td>\n",
       "      <td>0</td>\n",
       "      <td>0</td>\n",
       "      <td>0</td>\n",
       "      <td>0</td>\n",
       "      <td>0</td>\n",
       "      <td>0</td>\n",
       "      <td>No</td>\n",
       "      <td>Friday</td>\n",
       "      <td>Friday</td>\n",
       "      <td>0</td>\n",
       "    </tr>\n",
       "    <tr>\n",
       "      <th>9</th>\n",
       "      <td>7.812456e+13</td>\n",
       "      <td>5629123</td>\n",
       "      <td>F</td>\n",
       "      <td>2016-04-27</td>\n",
       "      <td>2016-04-29</td>\n",
       "      <td>19</td>\n",
       "      <td>CONQUISTA</td>\n",
       "      <td>0</td>\n",
       "      <td>0</td>\n",
       "      <td>0</td>\n",
       "      <td>0</td>\n",
       "      <td>0</td>\n",
       "      <td>0</td>\n",
       "      <td>No</td>\n",
       "      <td>Wednesday</td>\n",
       "      <td>Friday</td>\n",
       "      <td>2</td>\n",
       "    </tr>\n",
       "  </tbody>\n",
       "</table>\n",
       "</div>"
      ],
      "text/plain": [
       "     patient_id  appointment_id gender scheduled_date appointment_date  age  \\\n",
       "0  2.987250e+13         5642903      F     2016-04-29       2016-04-29   62   \n",
       "1  5.589978e+14         5642503      M     2016-04-29       2016-04-29   56   \n",
       "2  4.262962e+12         5642549      F     2016-04-29       2016-04-29   62   \n",
       "3  8.679512e+11         5642828      F     2016-04-29       2016-04-29    8   \n",
       "4  8.841186e+12         5642494      F     2016-04-29       2016-04-29   56   \n",
       "5  9.598513e+13         5626772      F     2016-04-27       2016-04-29   76   \n",
       "6  7.336882e+14         5630279      F     2016-04-27       2016-04-29   23   \n",
       "7  3.449833e+12         5630575      F     2016-04-27       2016-04-29   39   \n",
       "8  5.639473e+13         5638447      F     2016-04-29       2016-04-29   21   \n",
       "9  7.812456e+13         5629123      F     2016-04-27       2016-04-29   19   \n",
       "\n",
       "       neighbourhood  scholarship  hypertension  diabetes  alcoholism  \\\n",
       "0    JARDIM DA PENHA            0             1         0           0   \n",
       "1    JARDIM DA PENHA            0             0         0           0   \n",
       "2      MATA DA PRAIA            0             0         0           0   \n",
       "3  PONTAL DE CAMBURI            0             0         0           0   \n",
       "4    JARDIM DA PENHA            0             1         1           0   \n",
       "5          REPÚBLICA            0             1         0           0   \n",
       "6         GOIABEIRAS            0             0         0           0   \n",
       "7         GOIABEIRAS            0             0         0           0   \n",
       "8         ANDORINHAS            0             0         0           0   \n",
       "9          CONQUISTA            0             0         0           0   \n",
       "\n",
       "   handicap  sms no_show scheduled_day appointment_day  days_apart  \n",
       "0         0    0      No        Friday          Friday           0  \n",
       "1         0    0      No        Friday          Friday           0  \n",
       "2         0    0      No        Friday          Friday           0  \n",
       "3         0    0      No        Friday          Friday           0  \n",
       "4         0    0      No        Friday          Friday           0  \n",
       "5         0    0      No     Wednesday          Friday           2  \n",
       "6         0    0     Yes     Wednesday          Friday           2  \n",
       "7         0    0     Yes     Wednesday          Friday           2  \n",
       "8         0    0      No        Friday          Friday           0  \n",
       "9         0    0      No     Wednesday          Friday           2  "
      ]
     },
     "execution_count": 13,
     "metadata": {},
     "output_type": "execute_result"
    }
   ],
   "source": [
    "df['scheduled_day']=df['scheduled_date'].dt.day_name()\n",
    "df['appointment_day']=df['appointment_date'].dt.day_name()\n",
    "df['days_apart'] = (df['appointment_date'] - df['scheduled_date']).dt.days\n",
    "df.head(10)"
   ]
  },
  {
   "cell_type": "code",
   "execution_count": 14,
   "metadata": {},
   "outputs": [
    {
     "data": {
      "text/plain": [
       "62299"
      ]
     },
     "execution_count": 14,
     "metadata": {},
     "output_type": "execute_result"
    }
   ],
   "source": [
    "df['patient_id'].nunique()"
   ]
  },
  {
   "cell_type": "markdown",
   "metadata": {},
   "source": [
    "<h4>This Implies some patients have more than one scheduled Day, maybe as a result of them missing their appointment date which they tend to come up for rescheduling  or perhabs more than one visitations is required so the reason for some patients having more than Scheduling Day </h4>"
   ]
  },
  {
   "cell_type": "code",
   "execution_count": 15,
   "metadata": {},
   "outputs": [
    {
     "data": {
      "text/plain": [
       "appointment_id    110527\n",
       "gender                 2\n",
       "dtype: int64"
      ]
     },
     "execution_count": 15,
     "metadata": {},
     "output_type": "execute_result"
    }
   ],
   "source": [
    "df[['appointment_id', 'gender']].nunique()\n"
   ]
  },
  {
   "cell_type": "markdown",
   "metadata": {},
   "source": [
    "As expected the **appointment_id** is unique  and the **gender variable** comtain two unique  values genders(male and female)."
   ]
  },
  {
   "cell_type": "markdown",
   "metadata": {},
   "source": [
    "calling the describe method on the discrete variables **(age,days_apart)**"
   ]
  },
  {
   "cell_type": "code",
   "execution_count": 16,
   "metadata": {},
   "outputs": [
    {
     "data": {
      "text/html": [
       "<div>\n",
       "<style scoped>\n",
       "    .dataframe tbody tr th:only-of-type {\n",
       "        vertical-align: middle;\n",
       "    }\n",
       "\n",
       "    .dataframe tbody tr th {\n",
       "        vertical-align: top;\n",
       "    }\n",
       "\n",
       "    .dataframe thead th {\n",
       "        text-align: right;\n",
       "    }\n",
       "</style>\n",
       "<table border=\"1\" class=\"dataframe\">\n",
       "  <thead>\n",
       "    <tr style=\"text-align: right;\">\n",
       "      <th></th>\n",
       "      <th>age</th>\n",
       "      <th>days_apart</th>\n",
       "    </tr>\n",
       "  </thead>\n",
       "  <tbody>\n",
       "    <tr>\n",
       "      <th>count</th>\n",
       "      <td>110527.000000</td>\n",
       "      <td>110527.000000</td>\n",
       "    </tr>\n",
       "    <tr>\n",
       "      <th>mean</th>\n",
       "      <td>37.088874</td>\n",
       "      <td>10.183702</td>\n",
       "    </tr>\n",
       "    <tr>\n",
       "      <th>std</th>\n",
       "      <td>23.110205</td>\n",
       "      <td>15.254996</td>\n",
       "    </tr>\n",
       "    <tr>\n",
       "      <th>min</th>\n",
       "      <td>-1.000000</td>\n",
       "      <td>-6.000000</td>\n",
       "    </tr>\n",
       "    <tr>\n",
       "      <th>25%</th>\n",
       "      <td>18.000000</td>\n",
       "      <td>0.000000</td>\n",
       "    </tr>\n",
       "    <tr>\n",
       "      <th>50%</th>\n",
       "      <td>37.000000</td>\n",
       "      <td>4.000000</td>\n",
       "    </tr>\n",
       "    <tr>\n",
       "      <th>75%</th>\n",
       "      <td>55.000000</td>\n",
       "      <td>15.000000</td>\n",
       "    </tr>\n",
       "    <tr>\n",
       "      <th>max</th>\n",
       "      <td>115.000000</td>\n",
       "      <td>179.000000</td>\n",
       "    </tr>\n",
       "  </tbody>\n",
       "</table>\n",
       "</div>"
      ],
      "text/plain": [
       "                 age     days_apart\n",
       "count  110527.000000  110527.000000\n",
       "mean       37.088874      10.183702\n",
       "std        23.110205      15.254996\n",
       "min        -1.000000      -6.000000\n",
       "25%        18.000000       0.000000\n",
       "50%        37.000000       4.000000\n",
       "75%        55.000000      15.000000\n",
       "max       115.000000     179.000000"
      ]
     },
     "execution_count": 16,
     "metadata": {},
     "output_type": "execute_result"
    }
   ],
   "source": [
    "df[['age','days_apart']].describe()"
   ]
  },
  {
   "cell_type": "markdown",
   "metadata": {},
   "source": [
    "From Calling The  Describe method , few things need to be addressed ,such as both variables having negative minimum Values ."
   ]
  },
  {
   "cell_type": "code",
   "execution_count": 17,
   "metadata": {},
   "outputs": [
    {
     "name": "stdout",
     "output_type": "stream",
     "text": [
      "(5, 17)\n"
     ]
    },
    {
     "data": {
      "text/html": [
       "<div>\n",
       "<style scoped>\n",
       "    .dataframe tbody tr th:only-of-type {\n",
       "        vertical-align: middle;\n",
       "    }\n",
       "\n",
       "    .dataframe tbody tr th {\n",
       "        vertical-align: top;\n",
       "    }\n",
       "\n",
       "    .dataframe thead th {\n",
       "        text-align: right;\n",
       "    }\n",
       "</style>\n",
       "<table border=\"1\" class=\"dataframe\">\n",
       "  <thead>\n",
       "    <tr style=\"text-align: right;\">\n",
       "      <th></th>\n",
       "      <th>patient_id</th>\n",
       "      <th>appointment_id</th>\n",
       "      <th>gender</th>\n",
       "      <th>scheduled_date</th>\n",
       "      <th>appointment_date</th>\n",
       "      <th>age</th>\n",
       "      <th>neighbourhood</th>\n",
       "      <th>scholarship</th>\n",
       "      <th>hypertension</th>\n",
       "      <th>diabetes</th>\n",
       "      <th>alcoholism</th>\n",
       "      <th>handicap</th>\n",
       "      <th>sms</th>\n",
       "      <th>no_show</th>\n",
       "      <th>scheduled_day</th>\n",
       "      <th>appointment_day</th>\n",
       "      <th>days_apart</th>\n",
       "    </tr>\n",
       "  </thead>\n",
       "  <tbody>\n",
       "    <tr>\n",
       "      <th>27033</th>\n",
       "      <td>7.839273e+12</td>\n",
       "      <td>5679978</td>\n",
       "      <td>M</td>\n",
       "      <td>2016-05-10</td>\n",
       "      <td>2016-05-09</td>\n",
       "      <td>38</td>\n",
       "      <td>RESISTÊNCIA</td>\n",
       "      <td>0</td>\n",
       "      <td>0</td>\n",
       "      <td>0</td>\n",
       "      <td>0</td>\n",
       "      <td>1</td>\n",
       "      <td>0</td>\n",
       "      <td>Yes</td>\n",
       "      <td>Tuesday</td>\n",
       "      <td>Monday</td>\n",
       "      <td>-1</td>\n",
       "    </tr>\n",
       "    <tr>\n",
       "      <th>55226</th>\n",
       "      <td>7.896294e+12</td>\n",
       "      <td>5715660</td>\n",
       "      <td>F</td>\n",
       "      <td>2016-05-18</td>\n",
       "      <td>2016-05-17</td>\n",
       "      <td>19</td>\n",
       "      <td>SANTO ANTÔNIO</td>\n",
       "      <td>0</td>\n",
       "      <td>0</td>\n",
       "      <td>0</td>\n",
       "      <td>0</td>\n",
       "      <td>1</td>\n",
       "      <td>0</td>\n",
       "      <td>Yes</td>\n",
       "      <td>Wednesday</td>\n",
       "      <td>Tuesday</td>\n",
       "      <td>-1</td>\n",
       "    </tr>\n",
       "    <tr>\n",
       "      <th>64175</th>\n",
       "      <td>2.425226e+13</td>\n",
       "      <td>5664962</td>\n",
       "      <td>F</td>\n",
       "      <td>2016-05-05</td>\n",
       "      <td>2016-05-04</td>\n",
       "      <td>22</td>\n",
       "      <td>CONSOLAÇÃO</td>\n",
       "      <td>0</td>\n",
       "      <td>0</td>\n",
       "      <td>0</td>\n",
       "      <td>0</td>\n",
       "      <td>0</td>\n",
       "      <td>0</td>\n",
       "      <td>Yes</td>\n",
       "      <td>Thursday</td>\n",
       "      <td>Wednesday</td>\n",
       "      <td>-1</td>\n",
       "    </tr>\n",
       "    <tr>\n",
       "      <th>71533</th>\n",
       "      <td>9.982316e+14</td>\n",
       "      <td>5686628</td>\n",
       "      <td>F</td>\n",
       "      <td>2016-05-11</td>\n",
       "      <td>2016-05-05</td>\n",
       "      <td>81</td>\n",
       "      <td>SANTO ANTÔNIO</td>\n",
       "      <td>0</td>\n",
       "      <td>0</td>\n",
       "      <td>0</td>\n",
       "      <td>0</td>\n",
       "      <td>0</td>\n",
       "      <td>0</td>\n",
       "      <td>Yes</td>\n",
       "      <td>Wednesday</td>\n",
       "      <td>Thursday</td>\n",
       "      <td>-6</td>\n",
       "    </tr>\n",
       "    <tr>\n",
       "      <th>72362</th>\n",
       "      <td>3.787482e+12</td>\n",
       "      <td>5655637</td>\n",
       "      <td>M</td>\n",
       "      <td>2016-05-04</td>\n",
       "      <td>2016-05-03</td>\n",
       "      <td>7</td>\n",
       "      <td>TABUAZEIRO</td>\n",
       "      <td>0</td>\n",
       "      <td>0</td>\n",
       "      <td>0</td>\n",
       "      <td>0</td>\n",
       "      <td>0</td>\n",
       "      <td>0</td>\n",
       "      <td>Yes</td>\n",
       "      <td>Wednesday</td>\n",
       "      <td>Tuesday</td>\n",
       "      <td>-1</td>\n",
       "    </tr>\n",
       "  </tbody>\n",
       "</table>\n",
       "</div>"
      ],
      "text/plain": [
       "         patient_id  appointment_id gender scheduled_date appointment_date  \\\n",
       "27033  7.839273e+12         5679978      M     2016-05-10       2016-05-09   \n",
       "55226  7.896294e+12         5715660      F     2016-05-18       2016-05-17   \n",
       "64175  2.425226e+13         5664962      F     2016-05-05       2016-05-04   \n",
       "71533  9.982316e+14         5686628      F     2016-05-11       2016-05-05   \n",
       "72362  3.787482e+12         5655637      M     2016-05-04       2016-05-03   \n",
       "\n",
       "       age  neighbourhood  scholarship  hypertension  diabetes  alcoholism  \\\n",
       "27033   38    RESISTÊNCIA            0             0         0           0   \n",
       "55226   19  SANTO ANTÔNIO            0             0         0           0   \n",
       "64175   22     CONSOLAÇÃO            0             0         0           0   \n",
       "71533   81  SANTO ANTÔNIO            0             0         0           0   \n",
       "72362    7     TABUAZEIRO            0             0         0           0   \n",
       "\n",
       "       handicap  sms no_show scheduled_day appointment_day  days_apart  \n",
       "27033         1    0     Yes       Tuesday          Monday          -1  \n",
       "55226         1    0     Yes     Wednesday         Tuesday          -1  \n",
       "64175         0    0     Yes      Thursday       Wednesday          -1  \n",
       "71533         0    0     Yes     Wednesday        Thursday          -6  \n",
       "72362         0    0     Yes     Wednesday         Tuesday          -1  "
      ]
     },
     "execution_count": 17,
     "metadata": {},
     "output_type": "execute_result"
    }
   ],
   "source": [
    "df_1=df.query('days_apart<0')\n",
    "print(df_1.shape)\n",
    "df_1.head()"
   ]
  },
  {
   "cell_type": "markdown",
   "metadata": {},
   "source": [
    "For the Negative days_apart values ,this is as a result of the appointment_date been recorded as a precedent to the scheduled_date ,we will be dropping these 5 observations . "
   ]
  },
  {
   "cell_type": "code",
   "execution_count": 18,
   "metadata": {},
   "outputs": [
    {
     "data": {
      "text/html": [
       "<div>\n",
       "<style scoped>\n",
       "    .dataframe tbody tr th:only-of-type {\n",
       "        vertical-align: middle;\n",
       "    }\n",
       "\n",
       "    .dataframe tbody tr th {\n",
       "        vertical-align: top;\n",
       "    }\n",
       "\n",
       "    .dataframe thead th {\n",
       "        text-align: right;\n",
       "    }\n",
       "</style>\n",
       "<table border=\"1\" class=\"dataframe\">\n",
       "  <thead>\n",
       "    <tr style=\"text-align: right;\">\n",
       "      <th></th>\n",
       "      <th>age</th>\n",
       "      <th>days_apart</th>\n",
       "    </tr>\n",
       "  </thead>\n",
       "  <tbody>\n",
       "    <tr>\n",
       "      <th>count</th>\n",
       "      <td>110522.000000</td>\n",
       "      <td>110522.000000</td>\n",
       "    </tr>\n",
       "    <tr>\n",
       "      <th>mean</th>\n",
       "      <td>37.089041</td>\n",
       "      <td>10.184253</td>\n",
       "    </tr>\n",
       "    <tr>\n",
       "      <th>std</th>\n",
       "      <td>23.110064</td>\n",
       "      <td>15.255115</td>\n",
       "    </tr>\n",
       "    <tr>\n",
       "      <th>min</th>\n",
       "      <td>-1.000000</td>\n",
       "      <td>0.000000</td>\n",
       "    </tr>\n",
       "    <tr>\n",
       "      <th>25%</th>\n",
       "      <td>18.000000</td>\n",
       "      <td>0.000000</td>\n",
       "    </tr>\n",
       "    <tr>\n",
       "      <th>50%</th>\n",
       "      <td>37.000000</td>\n",
       "      <td>4.000000</td>\n",
       "    </tr>\n",
       "    <tr>\n",
       "      <th>75%</th>\n",
       "      <td>55.000000</td>\n",
       "      <td>15.000000</td>\n",
       "    </tr>\n",
       "    <tr>\n",
       "      <th>max</th>\n",
       "      <td>115.000000</td>\n",
       "      <td>179.000000</td>\n",
       "    </tr>\n",
       "  </tbody>\n",
       "</table>\n",
       "</div>"
      ],
      "text/plain": [
       "                 age     days_apart\n",
       "count  110522.000000  110522.000000\n",
       "mean       37.089041      10.184253\n",
       "std        23.110064      15.255115\n",
       "min        -1.000000       0.000000\n",
       "25%        18.000000       0.000000\n",
       "50%        37.000000       4.000000\n",
       "75%        55.000000      15.000000\n",
       "max       115.000000     179.000000"
      ]
     },
     "execution_count": 18,
     "metadata": {},
     "output_type": "execute_result"
    }
   ],
   "source": [
    "## removing the negative days_apart observation\n",
    "df=df.query('days_apart>=0')\n",
    "df[['age','days_apart']].describe()"
   ]
  },
  {
   "cell_type": "markdown",
   "metadata": {},
   "source": [
    "**Addressing the negative age values**"
   ]
  },
  {
   "cell_type": "code",
   "execution_count": 19,
   "metadata": {},
   "outputs": [
    {
     "name": "stdout",
     "output_type": "stream",
     "text": [
      "Number of rows with age value less than or equal to zero- 3540\n"
     ]
    },
    {
     "data": {
      "text/html": [
       "<div>\n",
       "<style scoped>\n",
       "    .dataframe tbody tr th:only-of-type {\n",
       "        vertical-align: middle;\n",
       "    }\n",
       "\n",
       "    .dataframe tbody tr th {\n",
       "        vertical-align: top;\n",
       "    }\n",
       "\n",
       "    .dataframe thead th {\n",
       "        text-align: right;\n",
       "    }\n",
       "</style>\n",
       "<table border=\"1\" class=\"dataframe\">\n",
       "  <thead>\n",
       "    <tr style=\"text-align: right;\">\n",
       "      <th></th>\n",
       "      <th>patient_id</th>\n",
       "      <th>appointment_id</th>\n",
       "      <th>gender</th>\n",
       "      <th>scheduled_date</th>\n",
       "      <th>appointment_date</th>\n",
       "      <th>age</th>\n",
       "      <th>neighbourhood</th>\n",
       "      <th>scholarship</th>\n",
       "      <th>hypertension</th>\n",
       "      <th>diabetes</th>\n",
       "      <th>alcoholism</th>\n",
       "      <th>handicap</th>\n",
       "      <th>sms</th>\n",
       "      <th>no_show</th>\n",
       "      <th>scheduled_day</th>\n",
       "      <th>appointment_day</th>\n",
       "      <th>days_apart</th>\n",
       "    </tr>\n",
       "  </thead>\n",
       "  <tbody>\n",
       "    <tr>\n",
       "      <th>59</th>\n",
       "      <td>7.184428e+13</td>\n",
       "      <td>5638545</td>\n",
       "      <td>F</td>\n",
       "      <td>2016-04-29</td>\n",
       "      <td>2016-04-29</td>\n",
       "      <td>0</td>\n",
       "      <td>CONQUISTA</td>\n",
       "      <td>0</td>\n",
       "      <td>0</td>\n",
       "      <td>0</td>\n",
       "      <td>0</td>\n",
       "      <td>0</td>\n",
       "      <td>0</td>\n",
       "      <td>No</td>\n",
       "      <td>Friday</td>\n",
       "      <td>Friday</td>\n",
       "      <td>0</td>\n",
       "    </tr>\n",
       "    <tr>\n",
       "      <th>63</th>\n",
       "      <td>2.366233e+14</td>\n",
       "      <td>5628286</td>\n",
       "      <td>M</td>\n",
       "      <td>2016-04-27</td>\n",
       "      <td>2016-04-29</td>\n",
       "      <td>0</td>\n",
       "      <td>SÃO BENEDITO</td>\n",
       "      <td>0</td>\n",
       "      <td>0</td>\n",
       "      <td>0</td>\n",
       "      <td>0</td>\n",
       "      <td>0</td>\n",
       "      <td>0</td>\n",
       "      <td>No</td>\n",
       "      <td>Wednesday</td>\n",
       "      <td>Friday</td>\n",
       "      <td>2</td>\n",
       "    </tr>\n",
       "    <tr>\n",
       "      <th>64</th>\n",
       "      <td>1.885174e+14</td>\n",
       "      <td>5616082</td>\n",
       "      <td>M</td>\n",
       "      <td>2016-04-25</td>\n",
       "      <td>2016-04-29</td>\n",
       "      <td>0</td>\n",
       "      <td>ILHA DAS CAIEIRAS</td>\n",
       "      <td>0</td>\n",
       "      <td>0</td>\n",
       "      <td>0</td>\n",
       "      <td>0</td>\n",
       "      <td>0</td>\n",
       "      <td>1</td>\n",
       "      <td>No</td>\n",
       "      <td>Monday</td>\n",
       "      <td>Friday</td>\n",
       "      <td>4</td>\n",
       "    </tr>\n",
       "    <tr>\n",
       "      <th>65</th>\n",
       "      <td>2.718818e+14</td>\n",
       "      <td>5628321</td>\n",
       "      <td>M</td>\n",
       "      <td>2016-04-27</td>\n",
       "      <td>2016-04-29</td>\n",
       "      <td>0</td>\n",
       "      <td>CONQUISTA</td>\n",
       "      <td>0</td>\n",
       "      <td>0</td>\n",
       "      <td>0</td>\n",
       "      <td>0</td>\n",
       "      <td>0</td>\n",
       "      <td>0</td>\n",
       "      <td>No</td>\n",
       "      <td>Wednesday</td>\n",
       "      <td>Friday</td>\n",
       "      <td>2</td>\n",
       "    </tr>\n",
       "    <tr>\n",
       "      <th>67</th>\n",
       "      <td>8.647128e+13</td>\n",
       "      <td>5639264</td>\n",
       "      <td>F</td>\n",
       "      <td>2016-04-29</td>\n",
       "      <td>2016-04-29</td>\n",
       "      <td>0</td>\n",
       "      <td>NOVA PALESTINA</td>\n",
       "      <td>0</td>\n",
       "      <td>0</td>\n",
       "      <td>0</td>\n",
       "      <td>0</td>\n",
       "      <td>0</td>\n",
       "      <td>0</td>\n",
       "      <td>No</td>\n",
       "      <td>Friday</td>\n",
       "      <td>Friday</td>\n",
       "      <td>0</td>\n",
       "    </tr>\n",
       "  </tbody>\n",
       "</table>\n",
       "</div>"
      ],
      "text/plain": [
       "      patient_id  appointment_id gender scheduled_date appointment_date  age  \\\n",
       "59  7.184428e+13         5638545      F     2016-04-29       2016-04-29    0   \n",
       "63  2.366233e+14         5628286      M     2016-04-27       2016-04-29    0   \n",
       "64  1.885174e+14         5616082      M     2016-04-25       2016-04-29    0   \n",
       "65  2.718818e+14         5628321      M     2016-04-27       2016-04-29    0   \n",
       "67  8.647128e+13         5639264      F     2016-04-29       2016-04-29    0   \n",
       "\n",
       "        neighbourhood  scholarship  hypertension  diabetes  alcoholism  \\\n",
       "59          CONQUISTA            0             0         0           0   \n",
       "63       SÃO BENEDITO            0             0         0           0   \n",
       "64  ILHA DAS CAIEIRAS            0             0         0           0   \n",
       "65          CONQUISTA            0             0         0           0   \n",
       "67     NOVA PALESTINA            0             0         0           0   \n",
       "\n",
       "    handicap  sms no_show scheduled_day appointment_day  days_apart  \n",
       "59         0    0      No        Friday          Friday           0  \n",
       "63         0    0      No     Wednesday          Friday           2  \n",
       "64         0    1      No        Monday          Friday           4  \n",
       "65         0    0      No     Wednesday          Friday           2  \n",
       "67         0    0      No        Friday          Friday           0  "
      ]
     },
     "execution_count": 19,
     "metadata": {},
     "output_type": "execute_result"
    }
   ],
   "source": [
    "##removing the negative age observation\n",
    "df_age=df.query('age<=0')\n",
    "print('Number of rows with age value less than or equal to zero-',df_age.shape[0])\n",
    "df_age.head()"
   ]
  },
  {
   "cell_type": "code",
   "execution_count": 20,
   "metadata": {},
   "outputs": [
    {
     "data": {
      "text/html": [
       "<div>\n",
       "<style scoped>\n",
       "    .dataframe tbody tr th:only-of-type {\n",
       "        vertical-align: middle;\n",
       "    }\n",
       "\n",
       "    .dataframe tbody tr th {\n",
       "        vertical-align: top;\n",
       "    }\n",
       "\n",
       "    .dataframe thead th {\n",
       "        text-align: right;\n",
       "    }\n",
       "</style>\n",
       "<table border=\"1\" class=\"dataframe\">\n",
       "  <thead>\n",
       "    <tr style=\"text-align: right;\">\n",
       "      <th></th>\n",
       "      <th>age_count</th>\n",
       "    </tr>\n",
       "  </thead>\n",
       "  <tbody>\n",
       "    <tr>\n",
       "      <th>0</th>\n",
       "      <td>3539</td>\n",
       "    </tr>\n",
       "    <tr>\n",
       "      <th>-1</th>\n",
       "      <td>1</td>\n",
       "    </tr>\n",
       "  </tbody>\n",
       "</table>\n",
       "</div>"
      ],
      "text/plain": [
       "    age_count\n",
       " 0       3539\n",
       "-1          1"
      ]
     },
     "execution_count": 20,
     "metadata": {},
     "output_type": "execute_result"
    }
   ],
   "source": [
    "df_age['age'].value_counts().to_frame(name='age_count')"
   ]
  },
  {
   "cell_type": "markdown",
   "metadata": {},
   "source": [
    "The Negative age Observation will be dropped , and the zero age values will be kept ,as a result of them to most likely to  be babies ,we put this hypothesis to test by checking hypertension ,diabetes and alcoholism variables"
   ]
  },
  {
   "cell_type": "code",
   "execution_count": 21,
   "metadata": {},
   "outputs": [
    {
     "name": "stdout",
     "output_type": "stream",
     "text": [
      "age\n",
      " 0    3539\n",
      "-1       1\n",
      "Name: age, dtype: int64\n",
      "\n",
      "hypertension\n",
      "0    3540\n",
      "Name: hypertension, dtype: int64\n",
      "\n",
      "diabetes\n",
      "0    3540\n",
      "Name: diabetes, dtype: int64\n",
      "\n",
      "alcoholism\n",
      "0    3540\n",
      "Name: alcoholism, dtype: int64\n",
      "\n"
     ]
    }
   ],
   "source": [
    "df_variables= df_age[['age','hypertension' ,'diabetes' , 'alcoholism']]\n",
    "for column in df_variables.columns.values.tolist():\n",
    "        print(column)\n",
    "        print(df_variables[column].value_counts())\n",
    "        print(\"\")\n"
   ]
  },
  {
   "cell_type": "markdown",
   "metadata": {},
   "source": [
    "Turns out the hypothesis is correct as a result of adult related columns giving a zero count value,proceeding to drop the negative observation"
   ]
  },
  {
   "cell_type": "code",
   "execution_count": 22,
   "metadata": {},
   "outputs": [
    {
     "data": {
      "text/html": [
       "<div>\n",
       "<style scoped>\n",
       "    .dataframe tbody tr th:only-of-type {\n",
       "        vertical-align: middle;\n",
       "    }\n",
       "\n",
       "    .dataframe tbody tr th {\n",
       "        vertical-align: top;\n",
       "    }\n",
       "\n",
       "    .dataframe thead th {\n",
       "        text-align: right;\n",
       "    }\n",
       "</style>\n",
       "<table border=\"1\" class=\"dataframe\">\n",
       "  <thead>\n",
       "    <tr style=\"text-align: right;\">\n",
       "      <th></th>\n",
       "      <th>age</th>\n",
       "      <th>days_apart</th>\n",
       "    </tr>\n",
       "  </thead>\n",
       "  <tbody>\n",
       "    <tr>\n",
       "      <th>count</th>\n",
       "      <td>110521.000000</td>\n",
       "      <td>110521.000000</td>\n",
       "    </tr>\n",
       "    <tr>\n",
       "      <th>mean</th>\n",
       "      <td>37.089386</td>\n",
       "      <td>10.184345</td>\n",
       "    </tr>\n",
       "    <tr>\n",
       "      <th>std</th>\n",
       "      <td>23.109885</td>\n",
       "      <td>15.255153</td>\n",
       "    </tr>\n",
       "    <tr>\n",
       "      <th>min</th>\n",
       "      <td>0.000000</td>\n",
       "      <td>0.000000</td>\n",
       "    </tr>\n",
       "    <tr>\n",
       "      <th>25%</th>\n",
       "      <td>18.000000</td>\n",
       "      <td>0.000000</td>\n",
       "    </tr>\n",
       "    <tr>\n",
       "      <th>50%</th>\n",
       "      <td>37.000000</td>\n",
       "      <td>4.000000</td>\n",
       "    </tr>\n",
       "    <tr>\n",
       "      <th>75%</th>\n",
       "      <td>55.000000</td>\n",
       "      <td>15.000000</td>\n",
       "    </tr>\n",
       "    <tr>\n",
       "      <th>max</th>\n",
       "      <td>115.000000</td>\n",
       "      <td>179.000000</td>\n",
       "    </tr>\n",
       "  </tbody>\n",
       "</table>\n",
       "</div>"
      ],
      "text/plain": [
       "                 age     days_apart\n",
       "count  110521.000000  110521.000000\n",
       "mean       37.089386      10.184345\n",
       "std        23.109885      15.255153\n",
       "min         0.000000       0.000000\n",
       "25%        18.000000       0.000000\n",
       "50%        37.000000       4.000000\n",
       "75%        55.000000      15.000000\n",
       "max       115.000000     179.000000"
      ]
     },
     "execution_count": 22,
     "metadata": {},
     "output_type": "execute_result"
    }
   ],
   "source": [
    "## removing the negative age observation.\n",
    "df=df.query('age>=0')\n",
    "df[['age','days_apart']].describe()"
   ]
  },
  {
   "cell_type": "markdown",
   "metadata": {},
   "source": [
    "<a id='eda'></a>\n",
    "## Exploratory Data Analysis\n",
    "\n",
    "<h5>In this Section, Descriptive Statistics will be done  alongside with Visualizations to help determine the Possible <em>Variables</em> responsible for Patients showing up on their appointment Days or not  . In this Light the Dataset will be separated into two based on the <bold>no_show</bold> Variable </h5>"
   ]
  },
  {
   "cell_type": "code",
   "execution_count": 23,
   "metadata": {},
   "outputs": [
    {
     "data": {
      "text/plain": [
       "Index(['patient_id', 'appointment_id', 'gender', 'scheduled_date',\n",
       "       'appointment_date', 'age', 'neighbourhood', 'scholarship',\n",
       "       'hypertension', 'diabetes', 'alcoholism', 'handicap', 'sms', 'no_show',\n",
       "       'scheduled_day', 'appointment_day', 'days_apart'],\n",
       "      dtype='object')"
      ]
     },
     "execution_count": 23,
     "metadata": {},
     "output_type": "execute_result"
    }
   ],
   "source": [
    "df.columns"
   ]
  },
  {
   "cell_type": "markdown",
   "metadata": {},
   "source": [
    "The **age** Variable will be binned into 7 Groups ."
   ]
  },
  {
   "cell_type": "code",
   "execution_count": 24,
   "metadata": {},
   "outputs": [
    {
     "data": {
      "text/plain": [
       "count    110521.000000\n",
       "mean         37.089386\n",
       "std          23.109885\n",
       "min           0.000000\n",
       "25%          18.000000\n",
       "50%          37.000000\n",
       "75%          55.000000\n",
       "max         115.000000\n",
       "Name: age, dtype: float64"
      ]
     },
     "execution_count": 24,
     "metadata": {},
     "output_type": "execute_result"
    }
   ],
   "source": [
    "df['age'].describe()"
   ]
  },
  {
   "cell_type": "code",
   "execution_count": 25,
   "metadata": {},
   "outputs": [],
   "source": [
    "# Bin edges that will be used to \"cut\" the data into groups\n",
    "bin_edges =[ 0,2,5,13,19,40,60,115]\n",
    "# Labels for the four age level groups\n",
    "bin_names = ['Infant','Toddler','Child','Teens','Adult' ,'Senior Adult' ,'Elderly' ] \n"
   ]
  },
  {
   "cell_type": "code",
   "execution_count": 26,
   "metadata": {},
   "outputs": [
    {
     "data": {
      "text/html": [
       "<div>\n",
       "<style scoped>\n",
       "    .dataframe tbody tr th:only-of-type {\n",
       "        vertical-align: middle;\n",
       "    }\n",
       "\n",
       "    .dataframe tbody tr th {\n",
       "        vertical-align: top;\n",
       "    }\n",
       "\n",
       "    .dataframe thead th {\n",
       "        text-align: right;\n",
       "    }\n",
       "</style>\n",
       "<table border=\"1\" class=\"dataframe\">\n",
       "  <thead>\n",
       "    <tr style=\"text-align: right;\">\n",
       "      <th></th>\n",
       "      <th>patient_id</th>\n",
       "      <th>appointment_id</th>\n",
       "      <th>gender</th>\n",
       "      <th>scheduled_date</th>\n",
       "      <th>appointment_date</th>\n",
       "      <th>age</th>\n",
       "      <th>neighbourhood</th>\n",
       "      <th>scholarship</th>\n",
       "      <th>hypertension</th>\n",
       "      <th>diabetes</th>\n",
       "      <th>alcoholism</th>\n",
       "      <th>handicap</th>\n",
       "      <th>sms</th>\n",
       "      <th>no_show</th>\n",
       "      <th>scheduled_day</th>\n",
       "      <th>appointment_day</th>\n",
       "      <th>days_apart</th>\n",
       "      <th>age_groups</th>\n",
       "    </tr>\n",
       "  </thead>\n",
       "  <tbody>\n",
       "    <tr>\n",
       "      <th>0</th>\n",
       "      <td>2.987250e+13</td>\n",
       "      <td>5642903</td>\n",
       "      <td>F</td>\n",
       "      <td>2016-04-29</td>\n",
       "      <td>2016-04-29</td>\n",
       "      <td>62</td>\n",
       "      <td>JARDIM DA PENHA</td>\n",
       "      <td>0</td>\n",
       "      <td>1</td>\n",
       "      <td>0</td>\n",
       "      <td>0</td>\n",
       "      <td>0</td>\n",
       "      <td>0</td>\n",
       "      <td>No</td>\n",
       "      <td>Friday</td>\n",
       "      <td>Friday</td>\n",
       "      <td>0</td>\n",
       "      <td>Elderly</td>\n",
       "    </tr>\n",
       "    <tr>\n",
       "      <th>1</th>\n",
       "      <td>5.589978e+14</td>\n",
       "      <td>5642503</td>\n",
       "      <td>M</td>\n",
       "      <td>2016-04-29</td>\n",
       "      <td>2016-04-29</td>\n",
       "      <td>56</td>\n",
       "      <td>JARDIM DA PENHA</td>\n",
       "      <td>0</td>\n",
       "      <td>0</td>\n",
       "      <td>0</td>\n",
       "      <td>0</td>\n",
       "      <td>0</td>\n",
       "      <td>0</td>\n",
       "      <td>No</td>\n",
       "      <td>Friday</td>\n",
       "      <td>Friday</td>\n",
       "      <td>0</td>\n",
       "      <td>Senior Adult</td>\n",
       "    </tr>\n",
       "    <tr>\n",
       "      <th>2</th>\n",
       "      <td>4.262962e+12</td>\n",
       "      <td>5642549</td>\n",
       "      <td>F</td>\n",
       "      <td>2016-04-29</td>\n",
       "      <td>2016-04-29</td>\n",
       "      <td>62</td>\n",
       "      <td>MATA DA PRAIA</td>\n",
       "      <td>0</td>\n",
       "      <td>0</td>\n",
       "      <td>0</td>\n",
       "      <td>0</td>\n",
       "      <td>0</td>\n",
       "      <td>0</td>\n",
       "      <td>No</td>\n",
       "      <td>Friday</td>\n",
       "      <td>Friday</td>\n",
       "      <td>0</td>\n",
       "      <td>Elderly</td>\n",
       "    </tr>\n",
       "    <tr>\n",
       "      <th>3</th>\n",
       "      <td>8.679512e+11</td>\n",
       "      <td>5642828</td>\n",
       "      <td>F</td>\n",
       "      <td>2016-04-29</td>\n",
       "      <td>2016-04-29</td>\n",
       "      <td>8</td>\n",
       "      <td>PONTAL DE CAMBURI</td>\n",
       "      <td>0</td>\n",
       "      <td>0</td>\n",
       "      <td>0</td>\n",
       "      <td>0</td>\n",
       "      <td>0</td>\n",
       "      <td>0</td>\n",
       "      <td>No</td>\n",
       "      <td>Friday</td>\n",
       "      <td>Friday</td>\n",
       "      <td>0</td>\n",
       "      <td>Child</td>\n",
       "    </tr>\n",
       "    <tr>\n",
       "      <th>4</th>\n",
       "      <td>8.841186e+12</td>\n",
       "      <td>5642494</td>\n",
       "      <td>F</td>\n",
       "      <td>2016-04-29</td>\n",
       "      <td>2016-04-29</td>\n",
       "      <td>56</td>\n",
       "      <td>JARDIM DA PENHA</td>\n",
       "      <td>0</td>\n",
       "      <td>1</td>\n",
       "      <td>1</td>\n",
       "      <td>0</td>\n",
       "      <td>0</td>\n",
       "      <td>0</td>\n",
       "      <td>No</td>\n",
       "      <td>Friday</td>\n",
       "      <td>Friday</td>\n",
       "      <td>0</td>\n",
       "      <td>Senior Adult</td>\n",
       "    </tr>\n",
       "  </tbody>\n",
       "</table>\n",
       "</div>"
      ],
      "text/plain": [
       "     patient_id  appointment_id gender scheduled_date appointment_date  age  \\\n",
       "0  2.987250e+13         5642903      F     2016-04-29       2016-04-29   62   \n",
       "1  5.589978e+14         5642503      M     2016-04-29       2016-04-29   56   \n",
       "2  4.262962e+12         5642549      F     2016-04-29       2016-04-29   62   \n",
       "3  8.679512e+11         5642828      F     2016-04-29       2016-04-29    8   \n",
       "4  8.841186e+12         5642494      F     2016-04-29       2016-04-29   56   \n",
       "\n",
       "       neighbourhood  scholarship  hypertension  diabetes  alcoholism  \\\n",
       "0    JARDIM DA PENHA            0             1         0           0   \n",
       "1    JARDIM DA PENHA            0             0         0           0   \n",
       "2      MATA DA PRAIA            0             0         0           0   \n",
       "3  PONTAL DE CAMBURI            0             0         0           0   \n",
       "4    JARDIM DA PENHA            0             1         1           0   \n",
       "\n",
       "   handicap  sms no_show scheduled_day appointment_day  days_apart  \\\n",
       "0         0    0      No        Friday          Friday           0   \n",
       "1         0    0      No        Friday          Friday           0   \n",
       "2         0    0      No        Friday          Friday           0   \n",
       "3         0    0      No        Friday          Friday           0   \n",
       "4         0    0      No        Friday          Friday           0   \n",
       "\n",
       "     age_groups  \n",
       "0       Elderly  \n",
       "1  Senior Adult  \n",
       "2       Elderly  \n",
       "3         Child  \n",
       "4  Senior Adult  "
      ]
     },
     "execution_count": 26,
     "metadata": {},
     "output_type": "execute_result"
    }
   ],
   "source": [
    "# Creates age_group variable\n",
    "df['age_groups'] = pd.cut(df['age'], bin_edges, labels=bin_names)\n",
    "# Checks for successful creation of this column\n",
    "df.head()"
   ]
  },
  {
   "cell_type": "code",
   "execution_count": 27,
   "metadata": {},
   "outputs": [
    {
     "name": "stdout",
     "output_type": "stream",
     "text": [
      "Percentage  of the  observations that showed up for their appointments- 79.81017182254956 %\n",
      "Percentage of observations that defaulted  their appointments- 20.18982817745044 %\n"
     ]
    }
   ],
   "source": [
    "df_show=df.query('no_show==\"No\"')\n",
    "df_noshow=df.query('no_show==\"Yes\"')\n",
    "\n",
    "#Taking the dimension of df_show \n",
    "print('Percentage  of the  observations that showed up for their appointments-',(df_show.shape[0]/df.shape[0])*100,'%')\n",
    "#Taking the dimension of \n",
    "print('Percentage of observations that defaulted  their appointments-',(df_noshow.shape[0]/df.shape[0])*100,'%')\n"
   ]
  },
  {
   "cell_type": "markdown",
   "metadata": {},
   "source": [
    "so approximately *80%* of The Dataset showed for their appointments while *20%* defaulted  <br>\n",
    "Checking for the variables that makes up each Dataset "
   ]
  },
  {
   "cell_type": "markdown",
   "metadata": {},
   "source": [
    "Going Through Each Age category To Determine what might prompt appointments to  be defaulted or not "
   ]
  },
  {
   "cell_type": "code",
   "execution_count": 28,
   "metadata": {
    "scrolled": true
   },
   "outputs": [
    {
     "data": {
      "text/html": [
       "<div>\n",
       "<style scoped>\n",
       "    .dataframe tbody tr th:only-of-type {\n",
       "        vertical-align: middle;\n",
       "    }\n",
       "\n",
       "    .dataframe tbody tr th {\n",
       "        vertical-align: top;\n",
       "    }\n",
       "\n",
       "    .dataframe thead th {\n",
       "        text-align: right;\n",
       "    }\n",
       "</style>\n",
       "<table border=\"1\" class=\"dataframe\">\n",
       "  <thead>\n",
       "    <tr style=\"text-align: right;\">\n",
       "      <th></th>\n",
       "      <th>patient_id</th>\n",
       "      <th>appointment_id</th>\n",
       "      <th>gender</th>\n",
       "      <th>scheduled_date</th>\n",
       "      <th>appointment_date</th>\n",
       "      <th>age</th>\n",
       "      <th>neighbourhood</th>\n",
       "      <th>scholarship</th>\n",
       "      <th>hypertension</th>\n",
       "      <th>diabetes</th>\n",
       "      <th>alcoholism</th>\n",
       "      <th>handicap</th>\n",
       "      <th>sms</th>\n",
       "      <th>no_show</th>\n",
       "      <th>scheduled_day</th>\n",
       "      <th>appointment_day</th>\n",
       "      <th>days_apart</th>\n",
       "      <th>age_groups</th>\n",
       "    </tr>\n",
       "  </thead>\n",
       "  <tbody>\n",
       "    <tr>\n",
       "      <th>55</th>\n",
       "      <td>4.179932e+13</td>\n",
       "      <td>5638018</td>\n",
       "      <td>M</td>\n",
       "      <td>2016-04-29</td>\n",
       "      <td>2016-04-29</td>\n",
       "      <td>2</td>\n",
       "      <td>NOVA PALESTINA</td>\n",
       "      <td>0</td>\n",
       "      <td>0</td>\n",
       "      <td>0</td>\n",
       "      <td>0</td>\n",
       "      <td>0</td>\n",
       "      <td>0</td>\n",
       "      <td>No</td>\n",
       "      <td>Friday</td>\n",
       "      <td>Friday</td>\n",
       "      <td>0</td>\n",
       "      <td>Infant</td>\n",
       "    </tr>\n",
       "    <tr>\n",
       "      <th>61</th>\n",
       "      <td>5.594636e+11</td>\n",
       "      <td>5626971</td>\n",
       "      <td>F</td>\n",
       "      <td>2016-04-27</td>\n",
       "      <td>2016-04-29</td>\n",
       "      <td>2</td>\n",
       "      <td>NOVA PALESTINA</td>\n",
       "      <td>0</td>\n",
       "      <td>0</td>\n",
       "      <td>0</td>\n",
       "      <td>0</td>\n",
       "      <td>0</td>\n",
       "      <td>0</td>\n",
       "      <td>Yes</td>\n",
       "      <td>Wednesday</td>\n",
       "      <td>Friday</td>\n",
       "      <td>2</td>\n",
       "      <td>Infant</td>\n",
       "    </tr>\n",
       "    <tr>\n",
       "      <th>66</th>\n",
       "      <td>9.784893e+14</td>\n",
       "      <td>5638604</td>\n",
       "      <td>M</td>\n",
       "      <td>2016-04-29</td>\n",
       "      <td>2016-04-29</td>\n",
       "      <td>1</td>\n",
       "      <td>CONQUISTA</td>\n",
       "      <td>0</td>\n",
       "      <td>0</td>\n",
       "      <td>0</td>\n",
       "      <td>0</td>\n",
       "      <td>0</td>\n",
       "      <td>0</td>\n",
       "      <td>No</td>\n",
       "      <td>Friday</td>\n",
       "      <td>Friday</td>\n",
       "      <td>0</td>\n",
       "      <td>Infant</td>\n",
       "    </tr>\n",
       "    <tr>\n",
       "      <th>87</th>\n",
       "      <td>4.143142e+12</td>\n",
       "      <td>5595356</td>\n",
       "      <td>M</td>\n",
       "      <td>2016-04-18</td>\n",
       "      <td>2016-04-29</td>\n",
       "      <td>2</td>\n",
       "      <td>ILHA DE SANTA MARIA</td>\n",
       "      <td>0</td>\n",
       "      <td>0</td>\n",
       "      <td>0</td>\n",
       "      <td>0</td>\n",
       "      <td>0</td>\n",
       "      <td>0</td>\n",
       "      <td>No</td>\n",
       "      <td>Monday</td>\n",
       "      <td>Friday</td>\n",
       "      <td>11</td>\n",
       "      <td>Infant</td>\n",
       "    </tr>\n",
       "    <tr>\n",
       "      <th>88</th>\n",
       "      <td>4.448346e+12</td>\n",
       "      <td>5595358</td>\n",
       "      <td>M</td>\n",
       "      <td>2016-04-18</td>\n",
       "      <td>2016-04-29</td>\n",
       "      <td>1</td>\n",
       "      <td>JUCUTUQUARA</td>\n",
       "      <td>0</td>\n",
       "      <td>0</td>\n",
       "      <td>0</td>\n",
       "      <td>0</td>\n",
       "      <td>0</td>\n",
       "      <td>0</td>\n",
       "      <td>No</td>\n",
       "      <td>Monday</td>\n",
       "      <td>Friday</td>\n",
       "      <td>11</td>\n",
       "      <td>Infant</td>\n",
       "    </tr>\n",
       "  </tbody>\n",
       "</table>\n",
       "</div>"
      ],
      "text/plain": [
       "      patient_id  appointment_id gender scheduled_date appointment_date  age  \\\n",
       "55  4.179932e+13         5638018      M     2016-04-29       2016-04-29    2   \n",
       "61  5.594636e+11         5626971      F     2016-04-27       2016-04-29    2   \n",
       "66  9.784893e+14         5638604      M     2016-04-29       2016-04-29    1   \n",
       "87  4.143142e+12         5595356      M     2016-04-18       2016-04-29    2   \n",
       "88  4.448346e+12         5595358      M     2016-04-18       2016-04-29    1   \n",
       "\n",
       "          neighbourhood  scholarship  hypertension  diabetes  alcoholism  \\\n",
       "55       NOVA PALESTINA            0             0         0           0   \n",
       "61       NOVA PALESTINA            0             0         0           0   \n",
       "66            CONQUISTA            0             0         0           0   \n",
       "87  ILHA DE SANTA MARIA            0             0         0           0   \n",
       "88          JUCUTUQUARA            0             0         0           0   \n",
       "\n",
       "    handicap  sms no_show scheduled_day appointment_day  days_apart age_groups  \n",
       "55         0    0      No        Friday          Friday           0     Infant  \n",
       "61         0    0     Yes     Wednesday          Friday           2     Infant  \n",
       "66         0    0      No        Friday          Friday           0     Infant  \n",
       "87         0    0      No        Monday          Friday          11     Infant  \n",
       "88         0    0      No        Monday          Friday          11     Infant  "
      ]
     },
     "execution_count": 28,
     "metadata": {},
     "output_type": "execute_result"
    }
   ],
   "source": [
    "# infant group \n",
    "df_infant=df.query('age_groups==\"Infant\"')\n",
    "df_infant.head()"
   ]
  },
  {
   "cell_type": "code",
   "execution_count": 29,
   "metadata": {},
   "outputs": [],
   "source": [
    "## Creating a reusable function as the value_count functions will be used a lot\n",
    "def genderviz(data,col='gender',category=''):\n",
    "    colors=['darkblue','darkgrey']\n",
    "    value = data[col].value_counts()\n",
    "    print(value)\n",
    "    value.plot(kind='barh',title=\"Gender Proportions Among {} Age Category\".format(category),color=colors)\n",
    "    plt.ylabel('Gender')\n",
    "    plt.xlabel('Frequency')"
   ]
  },
  {
   "cell_type": "code",
   "execution_count": 30,
   "metadata": {},
   "outputs": [],
   "source": [
    "## Creating a reusable function for visualizing the no_show variable\n",
    "def showviz(data,col='no_show',category=''):\n",
    "    colors=['darkgreen','darkred']\n",
    "    value = data[col].value_counts()\n",
    "    print(value)\n",
    "    value.plot(kind='bar',title=\"Show Up Appointments Amongst The {} Category\".format(category),color=colors)\n",
    "    plt.xlabel('No show')\n",
    "    plt.ylabel('Frequency')\n"
   ]
  },
  {
   "cell_type": "code",
   "execution_count": 31,
   "metadata": {},
   "outputs": [],
   "source": [
    "## Creating a reusable function for visualizing the  gender proportions of the no_show variable\n",
    "\n",
    "def gendershow(data,col='gender',category=''):\n",
    "    colors=['black','darkgrey']\n",
    "    value = data[col].value_counts()\n",
    "    print(value)\n",
    "    value.plot(kind='bar',title=\"Gender Proportions Amongst  {} Who Showed Up\".format(category),color=colors)\n",
    "    plt.xlabel('Gender')\n",
    "    plt.ylabel('Frequency')\n",
    "\n",
    "\n",
    "\n"
   ]
  },
  {
   "cell_type": "code",
   "execution_count": 32,
   "metadata": {},
   "outputs": [
    {
     "name": "stdout",
     "output_type": "stream",
     "text": [
      "M    2046\n",
      "F    1845\n",
      "Name: gender, dtype: int64\n"
     ]
    },
    {
     "data": {
      "image/png": "[encoded data removed]",
      "text/plain": [
       "<matplotlib.figure.Figure at 0x7f6296974b00>"
      ]
     },
     "metadata": {
      "needs_background": "light"
     },
     "output_type": "display_data"
    }
   ],
   "source": [
    "genderviz(df_infant,category='Infant')"
   ]
  },
  {
   "cell_type": "code",
   "execution_count": 33,
   "metadata": {},
   "outputs": [
    {
     "name": "stdout",
     "output_type": "stream",
     "text": [
      "No     3224\n",
      "Yes     667\n",
      "Name: no_show, dtype: int64\n"
     ]
    },
    {
     "data": {
      "image/png": "[encoded data removed]",
      "text/plain": [
       "<matplotlib.figure.Figure at 0x7f62966c4a20>"
      ]
     },
     "metadata": {
      "needs_background": "light"
     },
     "output_type": "display_data"
    }
   ],
   "source": [
    "showviz(df_infant,category='Infant')"
   ]
  },
  {
   "cell_type": "markdown",
   "metadata": {},
   "source": [
    "The Barchart implies Infants  appointment are mostly likely to get a show up,lets explore this further "
   ]
  },
  {
   "cell_type": "code",
   "execution_count": 34,
   "metadata": {},
   "outputs": [
    {
     "name": "stdout",
     "output_type": "stream",
     "text": [
      "gender\n",
      "M    2046\n",
      "F    1845\n",
      "Name: gender, dtype: int64\n",
      "\n",
      "scholarship\n",
      "0    3690\n",
      "1     201\n",
      "Name: scholarship, dtype: int64\n",
      "\n",
      "appointment_day\n",
      "Monday       963\n",
      "Tuesday      848\n",
      "Wednesday    836\n",
      "Friday       673\n",
      "Thursday     571\n",
      "Name: appointment_day, dtype: int64\n",
      "\n",
      "sms\n",
      "0    2932\n",
      "1     959\n",
      "Name: sms, dtype: int64\n",
      "\n"
     ]
    }
   ],
   "source": [
    "df_variables=df_infant[['gender','scholarship','appointment_day','sms']]\n",
    "for column in df_variables.columns.values.tolist():\n",
    "        print(column)\n",
    "        print(df_variables[column].value_counts())\n",
    "        print(\"\")\n"
   ]
  },
  {
   "cell_type": "code",
   "execution_count": 35,
   "metadata": {},
   "outputs": [
    {
     "data": {
      "text/plain": [
       "(3891, 3224)"
      ]
     },
     "execution_count": 35,
     "metadata": {},
     "output_type": "execute_result"
    }
   ],
   "source": [
    "#infant appointment that show up\n",
    "df_infant_show= df_infant.query('no_show==\"No\"')\n",
    "df_infant.shape[0],df_infant_show.shape[0]"
   ]
  },
  {
   "cell_type": "code",
   "execution_count": 36,
   "metadata": {},
   "outputs": [
    {
     "name": "stdout",
     "output_type": "stream",
     "text": [
      "Monday       963\n",
      "Tuesday      848\n",
      "Wednesday    836\n",
      "Friday       673\n",
      "Thursday     571\n",
      "Name: appointment_day, dtype: int64\n"
     ]
    },
    {
     "data": {
      "text/plain": [
       "Text(0,0.5,'frequency')"
      ]
     },
     "execution_count": 36,
     "metadata": {},
     "output_type": "execute_result"
    },
    {
     "data": {
      "image/png": "[encoded data removed]",
      "text/plain": [
       "<matplotlib.figure.Figure at 0x7f6296621a20>"
      ]
     },
     "metadata": {
      "needs_background": "light"
     },
     "output_type": "display_data"
    }
   ],
   "source": [
    "print(df_infant['appointment_day'].value_counts())\n",
    "colors=['blue','yellow','green','grey','darkblue']\n",
    "df_infant['appointment_day'].value_counts().plot(kind='bar',title=\"Projected Appointment Days among Infant\",color=colors);\n",
    "plt.xlabel('Days of The Week')\n",
    "plt.ylabel('frequency')"
   ]
  },
  {
   "cell_type": "code",
   "execution_count": 37,
   "metadata": {},
   "outputs": [
    {
     "name": "stdout",
     "output_type": "stream",
     "text": [
      "gender\n",
      "M    1692\n",
      "F    1532\n",
      "Name: gender, dtype: int64\n",
      "\n",
      "scholarship\n",
      "0    3050\n",
      "1     174\n",
      "Name: scholarship, dtype: int64\n",
      "\n",
      "appointment_day\n",
      "Monday       794\n",
      "Tuesday      710\n",
      "Wednesday    694\n",
      "Friday       543\n",
      "Thursday     483\n",
      "Name: appointment_day, dtype: int64\n",
      "\n",
      "sms\n",
      "0    2584\n",
      "1     640\n",
      "Name: sms, dtype: int64\n",
      "\n"
     ]
    }
   ],
   "source": [
    "df_variables=df_infant_show[['gender','scholarship','appointment_day','sms']]\n",
    "for column in df_variables.columns.values.tolist():\n",
    "        print(column)\n",
    "        print(df_variables[column].value_counts())\n",
    "        print(\"\")\n"
   ]
  },
  {
   "cell_type": "code",
   "execution_count": 38,
   "metadata": {},
   "outputs": [
    {
     "name": "stdout",
     "output_type": "stream",
     "text": [
      "Monday       794\n",
      "Tuesday      710\n",
      "Wednesday    694\n",
      "Friday       543\n",
      "Thursday     483\n",
      "Name: appointment_day, dtype: int64\n"
     ]
    },
    {
     "data": {
      "text/plain": [
       "Text(0,0.5,'frequency')"
      ]
     },
     "execution_count": 38,
     "metadata": {},
     "output_type": "execute_result"
    },
    {
     "data": {
      "image/png": "[encoded data removed]",
      "text/plain": [
       "<matplotlib.figure.Figure at 0x7f62966ca668>"
      ]
     },
     "metadata": {
      "needs_background": "light"
     },
     "output_type": "display_data"
    }
   ],
   "source": [
    "colors=['blue','yellow','green','grey','darkblue']\n",
    "print(df_infant_show['appointment_day'].value_counts())\n",
    "df_infant_show['appointment_day'].value_counts().plot(kind='bar',title=\" Appointment Days Turn out  among Infant\",color=colors);\n",
    "plt.xlabel('Days of The Week')\n",
    "plt.ylabel('frequency')"
   ]
  },
  {
   "cell_type": "code",
   "execution_count": 39,
   "metadata": {},
   "outputs": [
    {
     "data": {
      "text/plain": [
       "count    3224.000000\n",
       "mean        6.315136\n",
       "std        13.312188\n",
       "min         0.000000\n",
       "25%         0.000000\n",
       "50%         0.000000\n",
       "75%         6.250000\n",
       "max       125.000000\n",
       "Name: days_apart, dtype: float64"
      ]
     },
     "execution_count": 39,
     "metadata": {},
     "output_type": "execute_result"
    }
   ],
   "source": [
    "df_infant_show['days_apart'].describe()"
   ]
  },
  {
   "cell_type": "markdown",
   "metadata": {},
   "source": [
    "The Sd of the infant category is at least twice of the mean , which shows how the mean is quite far away from the rest of the dataset ."
   ]
  },
  {
   "cell_type": "code",
   "execution_count": 40,
   "metadata": {},
   "outputs": [],
   "source": [
    "## function to visualize Days apart Distribution with turn out  \n",
    "def showdays(data,col='days_apart',category=''):\n",
    "    value=data[col]\n",
    "    value.plot(kind='hist',title='Days_apart Distribution Among {} who showed up'.format(category))\n",
    "    plt.xlabel('Days Apart')\n",
    "\n"
   ]
  },
  {
   "cell_type": "code",
   "execution_count": 41,
   "metadata": {},
   "outputs": [
    {
     "data": {
      "image/png": "[encoded data removed]",
      "text/plain": [
       "<matplotlib.figure.Figure at 0x7f629656ba20>"
      ]
     },
     "metadata": {
      "needs_background": "light"
     },
     "output_type": "display_data"
    }
   ],
   "source": [
    "showdays(df_infant_show,category='Infants')"
   ]
  },
  {
   "cell_type": "markdown",
   "metadata": {},
   "source": [
    "Most turn outs in the infant category occur with a days_apart value,less than 6,This is a factor to be considered in deciding the prediction of no_show among infants apointment . "
   ]
  },
  {
   "cell_type": "code",
   "execution_count": 42,
   "metadata": {},
   "outputs": [
    {
     "data": {
      "text/plain": [
       "(3891, 667)"
      ]
     },
     "execution_count": 42,
     "metadata": {},
     "output_type": "execute_result"
    }
   ],
   "source": [
    "#infant appointment with no show up\n",
    "df_infant_noshow= df_infant.query('no_show==\"Yes\"')\n",
    "df_infant.shape[0],df_infant_noshow.shape[0]"
   ]
  },
  {
   "cell_type": "code",
   "execution_count": 43,
   "metadata": {},
   "outputs": [
    {
     "name": "stdout",
     "output_type": "stream",
     "text": [
      "gender\n",
      "M    354\n",
      "F    313\n",
      "Name: gender, dtype: int64\n",
      "\n",
      "scholarship\n",
      "0    640\n",
      "1     27\n",
      "Name: scholarship, dtype: int64\n",
      "\n",
      "appointment_day\n",
      "Monday       169\n",
      "Wednesday    142\n",
      "Tuesday      138\n",
      "Friday       130\n",
      "Thursday      88\n",
      "Name: appointment_day, dtype: int64\n",
      "\n",
      "sms\n",
      "0    348\n",
      "1    319\n",
      "Name: sms, dtype: int64\n",
      "\n"
     ]
    }
   ],
   "source": [
    "df_variables=df_infant_noshow[['gender','scholarship','appointment_day','sms']]\n",
    "for column in df_variables.columns.values.tolist():\n",
    "        print(column)\n",
    "        print(df_variables[column].value_counts())\n",
    "        print(\"\")\n"
   ]
  },
  {
   "cell_type": "code",
   "execution_count": 44,
   "metadata": {},
   "outputs": [
    {
     "data": {
      "text/plain": [
       "count    667.000000\n",
       "mean      18.583208\n",
       "std       16.169343\n",
       "min        0.000000\n",
       "25%        6.000000\n",
       "50%       14.000000\n",
       "75%       29.000000\n",
       "max       91.000000\n",
       "Name: days_apart, dtype: float64"
      ]
     },
     "execution_count": 44,
     "metadata": {},
     "output_type": "execute_result"
    }
   ],
   "source": [
    "df_infant_noshow['days_apart'].describe()"
   ]
  },
  {
   "cell_type": "markdown",
   "metadata": {},
   "source": [
    "The mean and sd of the appointment with no turn out have an absolute diiference o 2, which implies that for the infant categories ,appointment with  a days_part value of 18 are most likely not to get aa show up"
   ]
  },
  {
   "cell_type": "code",
   "execution_count": 45,
   "metadata": {},
   "outputs": [],
   "source": [
    "# function to visualize Days apart Distribution with turn out  \n",
    "def noshowdays(data,col='days_apart',category=''):\n",
    "    value=data[col]\n",
    "    value.plot(kind='hist',title='Days_apart Distribution Among {} with No Turn Out'.format(category))\n",
    "    plt.xlabel('Days Apart')\n",
    "\n"
   ]
  },
  {
   "cell_type": "code",
   "execution_count": 46,
   "metadata": {},
   "outputs": [
    {
     "data": {
      "image/png": "[encoded data removed]",
      "text/plain": [
       "<matplotlib.figure.Figure at 0x7f62a808a7b8>"
      ]
     },
     "metadata": {
      "needs_background": "light"
     },
     "output_type": "display_data"
    }
   ],
   "source": [
    "## visualizing days apart distribution with no turn out \n",
    "noshowdays(df_infant_noshow,category='Infant')"
   ]
  },
  {
   "cell_type": "markdown",
   "metadata": {},
   "source": [
    "In the Infant Categories , There's no appointment on saturday , so this  a factor to be considered in predicting no show appoinntment among Infants and  variables like scholarship,sms  didnt a substantible insight."
   ]
  },
  {
   "cell_type": "code",
   "execution_count": 47,
   "metadata": {},
   "outputs": [
    {
     "name": "stdout",
     "output_type": "stream",
     "text": [
      "Number of Observations that falls within Toddler Category- 4301\n"
     ]
    },
    {
     "data": {
      "text/html": [
       "<div>\n",
       "<style scoped>\n",
       "    .dataframe tbody tr th:only-of-type {\n",
       "        vertical-align: middle;\n",
       "    }\n",
       "\n",
       "    .dataframe tbody tr th {\n",
       "        vertical-align: top;\n",
       "    }\n",
       "\n",
       "    .dataframe thead th {\n",
       "        text-align: right;\n",
       "    }\n",
       "</style>\n",
       "<table border=\"1\" class=\"dataframe\">\n",
       "  <thead>\n",
       "    <tr style=\"text-align: right;\">\n",
       "      <th></th>\n",
       "      <th>patient_id</th>\n",
       "      <th>appointment_id</th>\n",
       "      <th>gender</th>\n",
       "      <th>scheduled_date</th>\n",
       "      <th>appointment_date</th>\n",
       "      <th>age</th>\n",
       "      <th>neighbourhood</th>\n",
       "      <th>scholarship</th>\n",
       "      <th>hypertension</th>\n",
       "      <th>diabetes</th>\n",
       "      <th>alcoholism</th>\n",
       "      <th>handicap</th>\n",
       "      <th>sms</th>\n",
       "      <th>no_show</th>\n",
       "      <th>scheduled_day</th>\n",
       "      <th>appointment_day</th>\n",
       "      <th>days_apart</th>\n",
       "      <th>age_groups</th>\n",
       "    </tr>\n",
       "  </thead>\n",
       "  <tbody>\n",
       "    <tr>\n",
       "      <th>21</th>\n",
       "      <td>1.215484e+13</td>\n",
       "      <td>5628338</td>\n",
       "      <td>F</td>\n",
       "      <td>2016-04-27</td>\n",
       "      <td>2016-04-29</td>\n",
       "      <td>4</td>\n",
       "      <td>CONQUISTA</td>\n",
       "      <td>0</td>\n",
       "      <td>0</td>\n",
       "      <td>0</td>\n",
       "      <td>0</td>\n",
       "      <td>0</td>\n",
       "      <td>0</td>\n",
       "      <td>Yes</td>\n",
       "      <td>Wednesday</td>\n",
       "      <td>Friday</td>\n",
       "      <td>2</td>\n",
       "      <td>Toddler</td>\n",
       "    </tr>\n",
       "    <tr>\n",
       "      <th>27</th>\n",
       "      <td>1.215484e+13</td>\n",
       "      <td>5628345</td>\n",
       "      <td>F</td>\n",
       "      <td>2016-04-27</td>\n",
       "      <td>2016-04-29</td>\n",
       "      <td>4</td>\n",
       "      <td>CONQUISTA</td>\n",
       "      <td>0</td>\n",
       "      <td>0</td>\n",
       "      <td>0</td>\n",
       "      <td>0</td>\n",
       "      <td>0</td>\n",
       "      <td>0</td>\n",
       "      <td>No</td>\n",
       "      <td>Wednesday</td>\n",
       "      <td>Friday</td>\n",
       "      <td>2</td>\n",
       "      <td>Toddler</td>\n",
       "    </tr>\n",
       "    <tr>\n",
       "      <th>62</th>\n",
       "      <td>3.647762e+13</td>\n",
       "      <td>5614045</td>\n",
       "      <td>F</td>\n",
       "      <td>2016-04-25</td>\n",
       "      <td>2016-04-29</td>\n",
       "      <td>3</td>\n",
       "      <td>CONQUISTA</td>\n",
       "      <td>1</td>\n",
       "      <td>0</td>\n",
       "      <td>0</td>\n",
       "      <td>0</td>\n",
       "      <td>0</td>\n",
       "      <td>1</td>\n",
       "      <td>No</td>\n",
       "      <td>Monday</td>\n",
       "      <td>Friday</td>\n",
       "      <td>4</td>\n",
       "      <td>Toddler</td>\n",
       "    </tr>\n",
       "    <tr>\n",
       "      <th>96</th>\n",
       "      <td>7.937625e+13</td>\n",
       "      <td>5623692</td>\n",
       "      <td>M</td>\n",
       "      <td>2016-04-26</td>\n",
       "      <td>2016-04-29</td>\n",
       "      <td>3</td>\n",
       "      <td>BONFIM</td>\n",
       "      <td>0</td>\n",
       "      <td>0</td>\n",
       "      <td>0</td>\n",
       "      <td>0</td>\n",
       "      <td>0</td>\n",
       "      <td>1</td>\n",
       "      <td>No</td>\n",
       "      <td>Tuesday</td>\n",
       "      <td>Friday</td>\n",
       "      <td>3</td>\n",
       "      <td>Toddler</td>\n",
       "    </tr>\n",
       "    <tr>\n",
       "      <th>130</th>\n",
       "      <td>1.523993e+14</td>\n",
       "      <td>5639855</td>\n",
       "      <td>F</td>\n",
       "      <td>2016-04-29</td>\n",
       "      <td>2016-04-29</td>\n",
       "      <td>5</td>\n",
       "      <td>SANTA HELENA</td>\n",
       "      <td>1</td>\n",
       "      <td>0</td>\n",
       "      <td>0</td>\n",
       "      <td>0</td>\n",
       "      <td>0</td>\n",
       "      <td>0</td>\n",
       "      <td>No</td>\n",
       "      <td>Friday</td>\n",
       "      <td>Friday</td>\n",
       "      <td>0</td>\n",
       "      <td>Toddler</td>\n",
       "    </tr>\n",
       "  </tbody>\n",
       "</table>\n",
       "</div>"
      ],
      "text/plain": [
       "       patient_id  appointment_id gender scheduled_date appointment_date  age  \\\n",
       "21   1.215484e+13         5628338      F     2016-04-27       2016-04-29    4   \n",
       "27   1.215484e+13         5628345      F     2016-04-27       2016-04-29    4   \n",
       "62   3.647762e+13         5614045      F     2016-04-25       2016-04-29    3   \n",
       "96   7.937625e+13         5623692      M     2016-04-26       2016-04-29    3   \n",
       "130  1.523993e+14         5639855      F     2016-04-29       2016-04-29    5   \n",
       "\n",
       "    neighbourhood  scholarship  hypertension  diabetes  alcoholism  handicap  \\\n",
       "21      CONQUISTA            0             0         0           0         0   \n",
       "27      CONQUISTA            0             0         0           0         0   \n",
       "62      CONQUISTA            1             0         0           0         0   \n",
       "96         BONFIM            0             0         0           0         0   \n",
       "130  SANTA HELENA            1             0         0           0         0   \n",
       "\n",
       "     sms no_show scheduled_day appointment_day  days_apart age_groups  \n",
       "21     0     Yes     Wednesday          Friday           2    Toddler  \n",
       "27     0      No     Wednesday          Friday           2    Toddler  \n",
       "62     1      No        Monday          Friday           4    Toddler  \n",
       "96     1      No       Tuesday          Friday           3    Toddler  \n",
       "130    0      No        Friday          Friday           0    Toddler  "
      ]
     },
     "execution_count": 47,
     "metadata": {},
     "output_type": "execute_result"
    }
   ],
   "source": [
    "# Toddler group \n",
    "df_toddler=df.query('age_groups==\"Toddler\"')\n",
    "print('Number of Observations that falls within Toddler Category-', df_toddler.shape[0])\n",
    "df_toddler.head()"
   ]
  },
  {
   "cell_type": "code",
   "execution_count": 48,
   "metadata": {},
   "outputs": [
    {
     "data": {
      "text/plain": [
       "Text(0,0.5,'frequency')"
      ]
     },
     "execution_count": 48,
     "metadata": {},
     "output_type": "execute_result"
    },
    {
     "data": {
      "image/png": "[encoded data removed]",
      "text/plain": [
       "<matplotlib.figure.Figure at 0x7f6296508978>"
      ]
     },
     "metadata": {
      "needs_background": "light"
     },
     "output_type": "display_data"
    }
   ],
   "source": [
    "df_toddler['age'].value_counts().plot(kind='bar');\n",
    "plt.xlabel('Ages')\n",
    "plt.ylabel('frequency')"
   ]
  },
  {
   "cell_type": "code",
   "execution_count": 49,
   "metadata": {},
   "outputs": [
    {
     "name": "stdout",
     "output_type": "stream",
     "text": [
      "M    2263\n",
      "F    2038\n",
      "Name: gender, dtype: int64\n"
     ]
    },
    {
     "data": {
      "image/png": "[encoded data removed]",
      "text/plain": [
       "<matplotlib.figure.Figure at 0x7f62964dc208>"
      ]
     },
     "metadata": {
      "needs_background": "light"
     },
     "output_type": "display_data"
    }
   ],
   "source": [
    "## calling the genderviz function on the toddler category\n",
    "genderviz(df_toddler,col='gender',category='Toddler')"
   ]
  },
  {
   "cell_type": "markdown",
   "metadata": {},
   "source": [
    "Just like the Infant Category  the gender proportions evens out "
   ]
  },
  {
   "cell_type": "code",
   "execution_count": 50,
   "metadata": {},
   "outputs": [
    {
     "name": "stdout",
     "output_type": "stream",
     "text": [
      "No     3422\n",
      "Yes     879\n",
      "Name: no_show, dtype: int64\n"
     ]
    },
    {
     "data": {
      "image/png": "[encoded data removed]",
      "text/plain": [
       "<matplotlib.figure.Figure at 0x7f62963f5390>"
      ]
     },
     "metadata": {
      "needs_background": "light"
     },
     "output_type": "display_data"
    }
   ],
   "source": [
    "# visualizing the no show variable in The Toddler Age group\n",
    "showviz(df_toddler,category='Toddler')"
   ]
  },
  {
   "cell_type": "markdown",
   "metadata": {},
   "source": [
    "The Toddler Category also have a high turn out rate ."
   ]
  },
  {
   "cell_type": "code",
   "execution_count": 51,
   "metadata": {},
   "outputs": [
    {
     "name": "stdout",
     "output_type": "stream",
     "text": [
      "gender\n",
      "M    2263\n",
      "F    2038\n",
      "Name: gender, dtype: int64\n",
      "\n",
      "scholarship\n",
      "0    3773\n",
      "1     528\n",
      "Name: scholarship, dtype: int64\n",
      "\n",
      "appointment_day\n",
      "Tuesday      1018\n",
      "Wednesday     942\n",
      "Monday        919\n",
      "Friday        740\n",
      "Thursday      682\n",
      "Name: appointment_day, dtype: int64\n",
      "\n",
      "sms\n",
      "0    3022\n",
      "1    1279\n",
      "Name: sms, dtype: int64\n",
      "\n",
      "no_show\n",
      "No     3422\n",
      "Yes     879\n",
      "Name: no_show, dtype: int64\n",
      "\n",
      "diabetes\n",
      "0    4300\n",
      "1       1\n",
      "Name: diabetes, dtype: int64\n",
      "\n"
     ]
    }
   ],
   "source": [
    "df_variables=df_toddler[['gender','scholarship','appointment_day','sms','no_show','diabetes']]\n",
    "for column in df_variables.columns.values.tolist():\n",
    "        print(column)\n",
    "        print(df_variables[column].value_counts())\n",
    "        print(\"\")\n"
   ]
  },
  {
   "cell_type": "code",
   "execution_count": 52,
   "metadata": {},
   "outputs": [],
   "source": [
    "df_toddler_show=df_toddler.query('no_show==\"No\"')"
   ]
  },
  {
   "cell_type": "code",
   "execution_count": 53,
   "metadata": {},
   "outputs": [
    {
     "name": "stdout",
     "output_type": "stream",
     "text": [
      "gender\n",
      "M    1811\n",
      "F    1611\n",
      "Name: gender, dtype: int64\n",
      "\n",
      "scholarship\n",
      "0    3004\n",
      "1     418\n",
      "Name: scholarship, dtype: int64\n",
      "\n",
      "appointment_day\n",
      "Tuesday      810\n",
      "Wednesday    755\n",
      "Monday       726\n",
      "Friday       577\n",
      "Thursday     554\n",
      "Name: appointment_day, dtype: int64\n",
      "\n",
      "sms\n",
      "0    2531\n",
      "1     891\n",
      "Name: sms, dtype: int64\n",
      "\n",
      "diabetes\n",
      "0    3421\n",
      "1       1\n",
      "Name: diabetes, dtype: int64\n",
      "\n"
     ]
    }
   ],
   "source": [
    "df_variables=df_toddler_show[['gender','scholarship','appointment_day','sms','diabetes']]\n",
    "for column in df_variables.columns.values.tolist():\n",
    "        print(column)\n",
    "        print(df_variables[column].value_counts())\n",
    "        print(\"\")\n"
   ]
  },
  {
   "cell_type": "code",
   "execution_count": 54,
   "metadata": {},
   "outputs": [
    {
     "data": {
      "text/plain": [
       "count    3422.000000\n",
       "mean        7.658971\n",
       "std        12.363408\n",
       "min         0.000000\n",
       "25%         0.000000\n",
       "50%         0.000000\n",
       "75%        11.000000\n",
       "max       104.000000\n",
       "Name: days_apart, dtype: float64"
      ]
     },
     "execution_count": 54,
     "metadata": {},
     "output_type": "execute_result"
    }
   ],
   "source": [
    "df_toddler_show['days_apart'].describe()"
   ]
  },
  {
   "cell_type": "code",
   "execution_count": 55,
   "metadata": {},
   "outputs": [
    {
     "data": {
      "image/png": "[encoded data removed]",
      "text/plain": [
       "<matplotlib.figure.Figure at 0x7f629630d358>"
      ]
     },
     "metadata": {
      "needs_background": "light"
     },
     "output_type": "display_data"
    }
   ],
   "source": [
    "showdays(df_toddler_show,category='Toddler')"
   ]
  },
  {
   "cell_type": "code",
   "execution_count": 56,
   "metadata": {},
   "outputs": [
    {
     "name": "stdout",
     "output_type": "stream",
     "text": [
      "gender\n",
      "M    452\n",
      "F    427\n",
      "Name: gender, dtype: int64\n",
      "\n",
      "scholarship\n",
      "0    769\n",
      "1    110\n",
      "Name: scholarship, dtype: int64\n",
      "\n",
      "appointment_day\n",
      "Tuesday      208\n",
      "Monday       193\n",
      "Wednesday    187\n",
      "Friday       163\n",
      "Thursday     128\n",
      "Name: appointment_day, dtype: int64\n",
      "\n",
      "sms\n",
      "0    491\n",
      "1    388\n",
      "Name: sms, dtype: int64\n",
      "\n",
      "diabetes\n",
      "0    879\n",
      "Name: diabetes, dtype: int64\n",
      "\n"
     ]
    }
   ],
   "source": [
    "df_toddler_noshow=df_toddler.query('no_show==\"Yes\"')\n",
    "df_variables=df_toddler_noshow[['gender','scholarship','appointment_day','sms','diabetes']]\n",
    "for column in df_variables.columns.values.tolist():\n",
    "        print(column)\n",
    "        print(df_variables[column].value_counts())\n",
    "        print(\"\")\n"
   ]
  },
  {
   "cell_type": "code",
   "execution_count": 57,
   "metadata": {},
   "outputs": [
    {
     "data": {
      "text/plain": [
       "count    879.000000\n",
       "mean      17.705347\n",
       "std       15.844586\n",
       "min        0.000000\n",
       "25%        6.000000\n",
       "50%       14.000000\n",
       "75%       27.000000\n",
       "max      146.000000\n",
       "Name: days_apart, dtype: float64"
      ]
     },
     "execution_count": 57,
     "metadata": {},
     "output_type": "execute_result"
    }
   ],
   "source": [
    "df_toddler_noshow['days_apart'].describe()"
   ]
  },
  {
   "cell_type": "code",
   "execution_count": 58,
   "metadata": {},
   "outputs": [
    {
     "data": {
      "image/png": "[encoded data removed]",
      "text/plain": [
       "<matplotlib.figure.Figure at 0x7f629632df60>"
      ]
     },
     "metadata": {
      "needs_background": "light"
     },
     "output_type": "display_data"
    }
   ],
   "source": [
    "#df_toddler_noshow['days_apart'].plot(kind='hist',bins=30);\n",
    "noshowdays(df_toddler_noshow,category='Toddler')"
   ]
  },
  {
   "cell_type": "code",
   "execution_count": 59,
   "metadata": {},
   "outputs": [
    {
     "name": "stdout",
     "output_type": "stream",
     "text": [
      "Number of Observations that falls within Child Category- 10407\n"
     ]
    },
    {
     "data": {
      "text/html": [
       "<div>\n",
       "<style scoped>\n",
       "    .dataframe tbody tr th:only-of-type {\n",
       "        vertical-align: middle;\n",
       "    }\n",
       "\n",
       "    .dataframe tbody tr th {\n",
       "        vertical-align: top;\n",
       "    }\n",
       "\n",
       "    .dataframe thead th {\n",
       "        text-align: right;\n",
       "    }\n",
       "</style>\n",
       "<table border=\"1\" class=\"dataframe\">\n",
       "  <thead>\n",
       "    <tr style=\"text-align: right;\">\n",
       "      <th></th>\n",
       "      <th>patient_id</th>\n",
       "      <th>appointment_id</th>\n",
       "      <th>gender</th>\n",
       "      <th>scheduled_date</th>\n",
       "      <th>appointment_date</th>\n",
       "      <th>age</th>\n",
       "      <th>neighbourhood</th>\n",
       "      <th>scholarship</th>\n",
       "      <th>hypertension</th>\n",
       "      <th>diabetes</th>\n",
       "      <th>alcoholism</th>\n",
       "      <th>handicap</th>\n",
       "      <th>sms</th>\n",
       "      <th>no_show</th>\n",
       "      <th>scheduled_day</th>\n",
       "      <th>appointment_day</th>\n",
       "      <th>days_apart</th>\n",
       "      <th>age_groups</th>\n",
       "    </tr>\n",
       "  </thead>\n",
       "  <tbody>\n",
       "    <tr>\n",
       "      <th>3</th>\n",
       "      <td>8.679512e+11</td>\n",
       "      <td>5642828</td>\n",
       "      <td>F</td>\n",
       "      <td>2016-04-29</td>\n",
       "      <td>2016-04-29</td>\n",
       "      <td>8</td>\n",
       "      <td>PONTAL DE CAMBURI</td>\n",
       "      <td>0</td>\n",
       "      <td>0</td>\n",
       "      <td>0</td>\n",
       "      <td>0</td>\n",
       "      <td>0</td>\n",
       "      <td>0</td>\n",
       "      <td>No</td>\n",
       "      <td>Friday</td>\n",
       "      <td>Friday</td>\n",
       "      <td>0</td>\n",
       "      <td>Child</td>\n",
       "    </tr>\n",
       "    <tr>\n",
       "      <th>22</th>\n",
       "      <td>8.632298e+14</td>\n",
       "      <td>5616091</td>\n",
       "      <td>M</td>\n",
       "      <td>2016-04-25</td>\n",
       "      <td>2016-04-29</td>\n",
       "      <td>13</td>\n",
       "      <td>CONQUISTA</td>\n",
       "      <td>0</td>\n",
       "      <td>0</td>\n",
       "      <td>0</td>\n",
       "      <td>0</td>\n",
       "      <td>0</td>\n",
       "      <td>1</td>\n",
       "      <td>Yes</td>\n",
       "      <td>Monday</td>\n",
       "      <td>Friday</td>\n",
       "      <td>4</td>\n",
       "      <td>Child</td>\n",
       "    </tr>\n",
       "    <tr>\n",
       "      <th>31</th>\n",
       "      <td>3.112849e+11</td>\n",
       "      <td>5628907</td>\n",
       "      <td>M</td>\n",
       "      <td>2016-04-27</td>\n",
       "      <td>2016-04-29</td>\n",
       "      <td>12</td>\n",
       "      <td>NOVA PALESTINA</td>\n",
       "      <td>1</td>\n",
       "      <td>0</td>\n",
       "      <td>0</td>\n",
       "      <td>0</td>\n",
       "      <td>0</td>\n",
       "      <td>0</td>\n",
       "      <td>Yes</td>\n",
       "      <td>Wednesday</td>\n",
       "      <td>Friday</td>\n",
       "      <td>2</td>\n",
       "      <td>Child</td>\n",
       "    </tr>\n",
       "    <tr>\n",
       "      <th>53</th>\n",
       "      <td>4.438587e+14</td>\n",
       "      <td>5637909</td>\n",
       "      <td>M</td>\n",
       "      <td>2016-04-29</td>\n",
       "      <td>2016-04-29</td>\n",
       "      <td>6</td>\n",
       "      <td>CONQUISTA</td>\n",
       "      <td>0</td>\n",
       "      <td>0</td>\n",
       "      <td>0</td>\n",
       "      <td>0</td>\n",
       "      <td>0</td>\n",
       "      <td>0</td>\n",
       "      <td>No</td>\n",
       "      <td>Friday</td>\n",
       "      <td>Friday</td>\n",
       "      <td>0</td>\n",
       "      <td>Child</td>\n",
       "    </tr>\n",
       "    <tr>\n",
       "      <th>54</th>\n",
       "      <td>3.371889e+12</td>\n",
       "      <td>5638164</td>\n",
       "      <td>F</td>\n",
       "      <td>2016-04-29</td>\n",
       "      <td>2016-04-29</td>\n",
       "      <td>6</td>\n",
       "      <td>NOVA PALESTINA</td>\n",
       "      <td>0</td>\n",
       "      <td>0</td>\n",
       "      <td>0</td>\n",
       "      <td>0</td>\n",
       "      <td>0</td>\n",
       "      <td>0</td>\n",
       "      <td>No</td>\n",
       "      <td>Friday</td>\n",
       "      <td>Friday</td>\n",
       "      <td>0</td>\n",
       "      <td>Child</td>\n",
       "    </tr>\n",
       "  </tbody>\n",
       "</table>\n",
       "</div>"
      ],
      "text/plain": [
       "      patient_id  appointment_id gender scheduled_date appointment_date  age  \\\n",
       "3   8.679512e+11         5642828      F     2016-04-29       2016-04-29    8   \n",
       "22  8.632298e+14         5616091      M     2016-04-25       2016-04-29   13   \n",
       "31  3.112849e+11         5628907      M     2016-04-27       2016-04-29   12   \n",
       "53  4.438587e+14         5637909      M     2016-04-29       2016-04-29    6   \n",
       "54  3.371889e+12         5638164      F     2016-04-29       2016-04-29    6   \n",
       "\n",
       "        neighbourhood  scholarship  hypertension  diabetes  alcoholism  \\\n",
       "3   PONTAL DE CAMBURI            0             0         0           0   \n",
       "22          CONQUISTA            0             0         0           0   \n",
       "31     NOVA PALESTINA            1             0         0           0   \n",
       "53          CONQUISTA            0             0         0           0   \n",
       "54     NOVA PALESTINA            0             0         0           0   \n",
       "\n",
       "    handicap  sms no_show scheduled_day appointment_day  days_apart age_groups  \n",
       "3          0    0      No        Friday          Friday           0      Child  \n",
       "22         0    1     Yes        Monday          Friday           4      Child  \n",
       "31         0    0     Yes     Wednesday          Friday           2      Child  \n",
       "53         0    0      No        Friday          Friday           0      Child  \n",
       "54         0    0      No        Friday          Friday           0      Child  "
      ]
     },
     "execution_count": 59,
     "metadata": {},
     "output_type": "execute_result"
    }
   ],
   "source": [
    "# Child group \n",
    "df_child=df.query('age_groups==\"Child\"')\n",
    "print('Number of Observations that falls within Child Category-', df_child.shape[0])\n",
    "df_child.head()"
   ]
  },
  {
   "cell_type": "code",
   "execution_count": 60,
   "metadata": {},
   "outputs": [
    {
     "name": "stdout",
     "output_type": "stream",
     "text": [
      "M    2046\n",
      "F    1845\n",
      "Name: gender, dtype: int64\n"
     ]
    },
    {
     "data": {
      "image/png": "[encoded data removed]",
      "text/plain": [
       "<matplotlib.figure.Figure at 0x7f6294236b38>"
      ]
     },
     "metadata": {
      "needs_background": "light"
     },
     "output_type": "display_data"
    }
   ],
   "source": [
    "##visualizing the gender in the child category\n",
    "genderviz(df_infant,col='gender',category='Child')"
   ]
  },
  {
   "cell_type": "markdown",
   "metadata": {},
   "source": [
    "The child category constitutes 10% of our entire dataset."
   ]
  },
  {
   "cell_type": "code",
   "execution_count": 61,
   "metadata": {},
   "outputs": [
    {
     "name": "stdout",
     "output_type": "stream",
     "text": [
      "No     7983\n",
      "Yes    2424\n",
      "Name: no_show, dtype: int64\n"
     ]
    },
    {
     "data": {
      "image/png": "[encoded data removed]",
      "text/plain": [
       "<matplotlib.figure.Figure at 0x7f62941ffcc0>"
      ]
     },
     "metadata": {
      "needs_background": "light"
     },
     "output_type": "display_data"
    }
   ],
   "source": [
    "showviz(df_child,category='Child')"
   ]
  },
  {
   "cell_type": "code",
   "execution_count": 62,
   "metadata": {},
   "outputs": [
    {
     "name": "stdout",
     "output_type": "stream",
     "text": [
      "gender\n",
      "M    4161\n",
      "F    3822\n",
      "Name: gender, dtype: int64\n",
      "\n",
      "scholarship\n",
      "0    6871\n",
      "1    1112\n",
      "Name: scholarship, dtype: int64\n",
      "\n",
      "appointment_day\n",
      "Wednesday    1962\n",
      "Tuesday      1797\n",
      "Monday       1655\n",
      "Friday       1354\n",
      "Thursday     1215\n",
      "Name: appointment_day, dtype: int64\n",
      "\n",
      "sms\n",
      "0    5576\n",
      "1    2407\n",
      "Name: sms, dtype: int64\n",
      "\n",
      "diabetes\n",
      "0    7971\n",
      "1      12\n",
      "Name: diabetes, dtype: int64\n",
      "\n"
     ]
    }
   ],
   "source": [
    "## Dataset of Child Category with Turn out\n",
    "df_child_show=df_child.query('no_show==\"No\"')\n",
    "df_variables=df_child_show[['gender','scholarship','appointment_day','sms','diabetes']]\n",
    "for column in df_variables.columns.values.tolist():\n",
    "        print(column)\n",
    "        print(df_variables[column].value_counts())\n",
    "        print(\"\")\n"
   ]
  },
  {
   "cell_type": "code",
   "execution_count": 63,
   "metadata": {},
   "outputs": [
    {
     "name": "stdout",
     "output_type": "stream",
     "text": [
      "Wednesday    2621\n",
      "Tuesday      2291\n",
      "Monday       2126\n",
      "Friday       1779\n",
      "Thursday     1590\n",
      "Name: appointment_day, dtype: int64\n"
     ]
    },
    {
     "data": {
      "text/plain": [
       "Text(0,0.5,'frequency')"
      ]
     },
     "execution_count": 63,
     "metadata": {},
     "output_type": "execute_result"
    },
    {
     "data": {
      "image/png": "[encoded data removed]",
      "text/plain": [
       "<matplotlib.figure.Figure at 0x7f6294246128>"
      ]
     },
     "metadata": {
      "needs_background": "light"
     },
     "output_type": "display_data"
    }
   ],
   "source": [
    "colors=['grey','darkred','green','darkblue','black']\n",
    "print(df_child['appointment_day'].value_counts())\n",
    "df_child['appointment_day'].value_counts().plot(kind='bar',title=\"Projected Appointment Days among The Child Category\",color=colors);\n",
    "plt.xlabel('Days of The Week')\n",
    "plt.ylabel('frequency')"
   ]
  },
  {
   "cell_type": "code",
   "execution_count": 64,
   "metadata": {},
   "outputs": [
    {
     "data": {
      "text/plain": [
       "Text(0,0.5,'frequency')"
      ]
     },
     "execution_count": 64,
     "metadata": {},
     "output_type": "execute_result"
    },
    {
     "data": {
      "image/png": "[encoded data removed]",
      "text/plain": [
       "<matplotlib.figure.Figure at 0x7f629636f240>"
      ]
     },
     "metadata": {
      "needs_background": "light"
     },
     "output_type": "display_data"
    }
   ],
   "source": [
    "colors=['grey','darkred','green','darkblue','black']\n",
    "df_child_show['appointment_day'].value_counts().plot(kind='bar',title=\"Turn Out Appointment Days among The Child Category\",color=colors);\n",
    "plt.xlabel('Days of The Week')\n",
    "plt.ylabel('frequency')"
   ]
  },
  {
   "cell_type": "markdown",
   "metadata": {},
   "source": [
    "The projected appointment days tallies with the appointment day."
   ]
  },
  {
   "cell_type": "code",
   "execution_count": 65,
   "metadata": {},
   "outputs": [
    {
     "name": "stdout",
     "output_type": "stream",
     "text": [
      "M    4161\n",
      "F    3822\n",
      "Name: gender, dtype: int64\n"
     ]
    },
    {
     "data": {
      "image/png": "[encoded data removed]",
      "text/plain": [
       "<matplotlib.figure.Figure at 0x7f629636f518>"
      ]
     },
     "metadata": {
      "needs_background": "light"
     },
     "output_type": "display_data"
    }
   ],
   "source": [
    "# creating a chart to see if gender is a variable to consider in this category\n",
    "gendershow(df_child_show,category='Child')"
   ]
  },
  {
   "cell_type": "markdown",
   "metadata": {},
   "source": [
    "so gender is not a variable to be considered  for predicting no_show in the Child Category "
   ]
  },
  {
   "cell_type": "code",
   "execution_count": 66,
   "metadata": {},
   "outputs": [
    {
     "data": {
      "text/plain": [
       "count    7983.000000\n",
       "mean        8.357134\n",
       "std        12.066564\n",
       "min         0.000000\n",
       "25%         0.000000\n",
       "50%         2.000000\n",
       "75%        14.000000\n",
       "max       104.000000\n",
       "Name: days_apart, dtype: float64"
      ]
     },
     "execution_count": 66,
     "metadata": {},
     "output_type": "execute_result"
    }
   ],
   "source": [
    "# calling describe method on the days_apart variable\n",
    "df_child_show['days_apart'].describe()"
   ]
  },
  {
   "cell_type": "code",
   "execution_count": 67,
   "metadata": {},
   "outputs": [
    {
     "data": {
      "image/png": "[encoded data removed]",
      "text/plain": [
       "<matplotlib.figure.Figure at 0x7f62963131d0>"
      ]
     },
     "metadata": {
      "needs_background": "light"
     },
     "output_type": "display_data"
    }
   ],
   "source": [
    "showdays(df_child_show,category='Child')"
   ]
  },
  {
   "cell_type": "markdown",
   "metadata": {},
   "source": [
    "Most Turn out appointments occur between zero and ten days_apart value ,This is a factor to be considered in predicting no_show for the Child Category."
   ]
  },
  {
   "cell_type": "code",
   "execution_count": 68,
   "metadata": {},
   "outputs": [
    {
     "name": "stdout",
     "output_type": "stream",
     "text": [
      "gender\n",
      "M    1266\n",
      "F    1158\n",
      "Name: gender, dtype: int64\n",
      "\n",
      "scholarship\n",
      "0    2055\n",
      "1     369\n",
      "Name: scholarship, dtype: int64\n",
      "\n",
      "appointment_day\n",
      "Wednesday    659\n",
      "Tuesday      494\n",
      "Monday       471\n",
      "Friday       425\n",
      "Thursday     375\n",
      "Name: appointment_day, dtype: int64\n",
      "\n",
      "sms\n",
      "0    1440\n",
      "1     984\n",
      "Name: sms, dtype: int64\n",
      "\n",
      "diabetes\n",
      "0    2420\n",
      "1       4\n",
      "Name: diabetes, dtype: int64\n",
      "\n"
     ]
    }
   ],
   "source": [
    "## Dataset of Child Category with No Turn out\n",
    "df_child_noshow=df_child.query('no_show==\"Yes\"')\n",
    "df_variables=df_child_noshow[['gender','scholarship','appointment_day','sms','diabetes']]\n",
    "for column in df_variables.columns.values.tolist():\n",
    "        print(column)\n",
    "        print(df_variables[column].value_counts())\n",
    "        print(\"\")\n"
   ]
  },
  {
   "cell_type": "markdown",
   "metadata": {},
   "source": [
    "The gender also evened out in the dataset with no turn out"
   ]
  },
  {
   "cell_type": "code",
   "execution_count": 69,
   "metadata": {},
   "outputs": [
    {
     "data": {
      "text/plain": [
       "count    2424.000000\n",
       "mean       15.189356\n",
       "std        15.221464\n",
       "min         0.000000\n",
       "25%         3.000000\n",
       "50%        10.000000\n",
       "75%        24.000000\n",
       "max       104.000000\n",
       "Name: days_apart, dtype: float64"
      ]
     },
     "execution_count": 69,
     "metadata": {},
     "output_type": "execute_result"
    }
   ],
   "source": [
    "df_child_noshow['days_apart'].describe()"
   ]
  },
  {
   "cell_type": "markdown",
   "metadata": {},
   "source": [
    "The mean and the standard deviation are approximately the same with a value of 15, so this implies,days_apart value from 15 and upwards are very less likely to show up "
   ]
  },
  {
   "cell_type": "code",
   "execution_count": 70,
   "metadata": {},
   "outputs": [
    {
     "data": {
      "image/png": "[encoded data removed]",
      "text/plain": [
       "<matplotlib.figure.Figure at 0x7f62966d04a8>"
      ]
     },
     "metadata": {
      "needs_background": "light"
     },
     "output_type": "display_data"
    }
   ],
   "source": [
    "noshowdays(df_child_noshow,category='Child')"
   ]
  },
  {
   "cell_type": "code",
   "execution_count": 71,
   "metadata": {},
   "outputs": [
    {
     "name": "stdout",
     "output_type": "stream",
     "text": [
      "Number of Observations that falls within Teens Category- 8271\n"
     ]
    },
    {
     "data": {
      "text/html": [
       "<div>\n",
       "<style scoped>\n",
       "    .dataframe tbody tr th:only-of-type {\n",
       "        vertical-align: middle;\n",
       "    }\n",
       "\n",
       "    .dataframe tbody tr th {\n",
       "        vertical-align: top;\n",
       "    }\n",
       "\n",
       "    .dataframe thead th {\n",
       "        text-align: right;\n",
       "    }\n",
       "</style>\n",
       "<table border=\"1\" class=\"dataframe\">\n",
       "  <thead>\n",
       "    <tr style=\"text-align: right;\">\n",
       "      <th></th>\n",
       "      <th>patient_id</th>\n",
       "      <th>appointment_id</th>\n",
       "      <th>gender</th>\n",
       "      <th>scheduled_date</th>\n",
       "      <th>appointment_date</th>\n",
       "      <th>age</th>\n",
       "      <th>neighbourhood</th>\n",
       "      <th>scholarship</th>\n",
       "      <th>hypertension</th>\n",
       "      <th>diabetes</th>\n",
       "      <th>alcoholism</th>\n",
       "      <th>handicap</th>\n",
       "      <th>sms</th>\n",
       "      <th>no_show</th>\n",
       "      <th>scheduled_day</th>\n",
       "      <th>appointment_day</th>\n",
       "      <th>days_apart</th>\n",
       "      <th>age_groups</th>\n",
       "    </tr>\n",
       "  </thead>\n",
       "  <tbody>\n",
       "    <tr>\n",
       "      <th>9</th>\n",
       "      <td>7.812456e+13</td>\n",
       "      <td>5629123</td>\n",
       "      <td>F</td>\n",
       "      <td>2016-04-27</td>\n",
       "      <td>2016-04-29</td>\n",
       "      <td>19</td>\n",
       "      <td>CONQUISTA</td>\n",
       "      <td>0</td>\n",
       "      <td>0</td>\n",
       "      <td>0</td>\n",
       "      <td>0</td>\n",
       "      <td>0</td>\n",
       "      <td>0</td>\n",
       "      <td>No</td>\n",
       "      <td>Wednesday</td>\n",
       "      <td>Friday</td>\n",
       "      <td>2</td>\n",
       "      <td>Teens</td>\n",
       "    </tr>\n",
       "    <tr>\n",
       "      <th>15</th>\n",
       "      <td>9.994839e+10</td>\n",
       "      <td>5620206</td>\n",
       "      <td>F</td>\n",
       "      <td>2016-04-26</td>\n",
       "      <td>2016-04-29</td>\n",
       "      <td>15</td>\n",
       "      <td>NOVA PALESTINA</td>\n",
       "      <td>0</td>\n",
       "      <td>0</td>\n",
       "      <td>0</td>\n",
       "      <td>0</td>\n",
       "      <td>0</td>\n",
       "      <td>1</td>\n",
       "      <td>No</td>\n",
       "      <td>Tuesday</td>\n",
       "      <td>Friday</td>\n",
       "      <td>3</td>\n",
       "      <td>Teens</td>\n",
       "    </tr>\n",
       "    <tr>\n",
       "      <th>35</th>\n",
       "      <td>7.816264e+13</td>\n",
       "      <td>5637968</td>\n",
       "      <td>M</td>\n",
       "      <td>2016-04-29</td>\n",
       "      <td>2016-04-29</td>\n",
       "      <td>18</td>\n",
       "      <td>SÃO CRISTÓVÃO</td>\n",
       "      <td>0</td>\n",
       "      <td>0</td>\n",
       "      <td>0</td>\n",
       "      <td>0</td>\n",
       "      <td>0</td>\n",
       "      <td>0</td>\n",
       "      <td>No</td>\n",
       "      <td>Friday</td>\n",
       "      <td>Friday</td>\n",
       "      <td>0</td>\n",
       "      <td>Teens</td>\n",
       "    </tr>\n",
       "    <tr>\n",
       "      <th>50</th>\n",
       "      <td>1.827172e+14</td>\n",
       "      <td>5534661</td>\n",
       "      <td>F</td>\n",
       "      <td>2016-03-31</td>\n",
       "      <td>2016-04-29</td>\n",
       "      <td>19</td>\n",
       "      <td>GRANDE VITÓRIA</td>\n",
       "      <td>0</td>\n",
       "      <td>0</td>\n",
       "      <td>0</td>\n",
       "      <td>0</td>\n",
       "      <td>0</td>\n",
       "      <td>1</td>\n",
       "      <td>Yes</td>\n",
       "      <td>Thursday</td>\n",
       "      <td>Friday</td>\n",
       "      <td>29</td>\n",
       "      <td>Teens</td>\n",
       "    </tr>\n",
       "    <tr>\n",
       "      <th>114</th>\n",
       "      <td>3.585621e+13</td>\n",
       "      <td>5591384</td>\n",
       "      <td>F</td>\n",
       "      <td>2016-04-15</td>\n",
       "      <td>2016-04-29</td>\n",
       "      <td>15</td>\n",
       "      <td>BELA VISTA</td>\n",
       "      <td>0</td>\n",
       "      <td>0</td>\n",
       "      <td>0</td>\n",
       "      <td>0</td>\n",
       "      <td>0</td>\n",
       "      <td>1</td>\n",
       "      <td>No</td>\n",
       "      <td>Friday</td>\n",
       "      <td>Friday</td>\n",
       "      <td>14</td>\n",
       "      <td>Teens</td>\n",
       "    </tr>\n",
       "  </tbody>\n",
       "</table>\n",
       "</div>"
      ],
      "text/plain": [
       "       patient_id  appointment_id gender scheduled_date appointment_date  age  \\\n",
       "9    7.812456e+13         5629123      F     2016-04-27       2016-04-29   19   \n",
       "15   9.994839e+10         5620206      F     2016-04-26       2016-04-29   15   \n",
       "35   7.816264e+13         5637968      M     2016-04-29       2016-04-29   18   \n",
       "50   1.827172e+14         5534661      F     2016-03-31       2016-04-29   19   \n",
       "114  3.585621e+13         5591384      F     2016-04-15       2016-04-29   15   \n",
       "\n",
       "      neighbourhood  scholarship  hypertension  diabetes  alcoholism  \\\n",
       "9         CONQUISTA            0             0         0           0   \n",
       "15   NOVA PALESTINA            0             0         0           0   \n",
       "35    SÃO CRISTÓVÃO            0             0         0           0   \n",
       "50   GRANDE VITÓRIA            0             0         0           0   \n",
       "114      BELA VISTA            0             0         0           0   \n",
       "\n",
       "     handicap  sms no_show scheduled_day appointment_day  days_apart  \\\n",
       "9           0    0      No     Wednesday          Friday           2   \n",
       "15          0    1      No       Tuesday          Friday           3   \n",
       "35          0    0      No        Friday          Friday           0   \n",
       "50          0    1     Yes      Thursday          Friday          29   \n",
       "114         0    1      No        Friday          Friday          14   \n",
       "\n",
       "    age_groups  \n",
       "9        Teens  \n",
       "15       Teens  \n",
       "35       Teens  \n",
       "50       Teens  \n",
       "114      Teens  "
      ]
     },
     "execution_count": 71,
     "metadata": {},
     "output_type": "execute_result"
    }
   ],
   "source": [
    "# Teens group \n",
    "df_teens=df.query('age_groups==\"Teens\"')\n",
    "print('Number of Observations that falls within Teens Category-', df_teens.shape[0])\n",
    "df_teens.head()"
   ]
  },
  {
   "cell_type": "code",
   "execution_count": 72,
   "metadata": {},
   "outputs": [
    {
     "name": "stdout",
     "output_type": "stream",
     "text": [
      "F    5492\n",
      "M    2779\n",
      "Name: gender, dtype: int64\n"
     ]
    },
    {
     "data": {
      "image/png": "[encoded data removed]",
      "text/plain": [
       "<matplotlib.figure.Figure at 0x7f629647bdd8>"
      ]
     },
     "metadata": {
      "needs_background": "light"
     },
     "output_type": "display_data"
    }
   ],
   "source": [
    "# gender visualization of the Teens Category\n",
    "genderviz(df_teens,category='Teens')"
   ]
  },
  {
   "cell_type": "markdown",
   "metadata": {},
   "source": [
    "The Female Gender Size is twice as much of their Male counterpart ,This is the first Age category this is happening."
   ]
  },
  {
   "cell_type": "code",
   "execution_count": 73,
   "metadata": {},
   "outputs": [
    {
     "name": "stdout",
     "output_type": "stream",
     "text": [
      "No     6141\n",
      "Yes    2130\n",
      "Name: no_show, dtype: int64\n"
     ]
    },
    {
     "data": {
      "image/png": "[encoded data removed]",
      "text/plain": [
       "<matplotlib.figure.Figure at 0x7f629635eac8>"
      ]
     },
     "metadata": {
      "needs_background": "light"
     },
     "output_type": "display_data"
    }
   ],
   "source": [
    "## visualizing the no show variable in the Teens Age group\n",
    "showviz(df_teens,category='Teens')"
   ]
  },
  {
   "cell_type": "markdown",
   "metadata": {},
   "source": [
    "More Turn out in this category also \n"
   ]
  },
  {
   "cell_type": "code",
   "execution_count": 74,
   "metadata": {},
   "outputs": [],
   "source": [
    "## Dataset of Teens Category with Turn out\n",
    "df_teens_show=df_teens.query('no_show==\"No\"')"
   ]
  },
  {
   "cell_type": "code",
   "execution_count": 75,
   "metadata": {},
   "outputs": [
    {
     "name": "stdout",
     "output_type": "stream",
     "text": [
      "gender\n",
      "F    4120\n",
      "M    2021\n",
      "Name: gender, dtype: int64\n",
      "\n",
      "scholarship\n",
      "0    5323\n",
      "1     818\n",
      "Name: scholarship, dtype: int64\n",
      "\n",
      "appointment_day\n",
      "Wednesday    1446\n",
      "Tuesday      1442\n",
      "Monday       1164\n",
      "Friday       1134\n",
      "Thursday      955\n",
      "Name: appointment_day, dtype: int64\n",
      "\n",
      "sms\n",
      "0    4565\n",
      "1    1576\n",
      "Name: sms, dtype: int64\n",
      "\n",
      "diabetes\n",
      "0    6115\n",
      "1      26\n",
      "Name: diabetes, dtype: int64\n",
      "\n",
      "handicap\n",
      "0    6010\n",
      "1     106\n",
      "2      22\n",
      "4       2\n",
      "3       1\n",
      "Name: handicap, dtype: int64\n",
      "\n"
     ]
    }
   ],
   "source": [
    "df_variables=df_teens_show[['gender','scholarship','appointment_day','sms','diabetes','handicap']]\n",
    "for column in df_variables.columns.values.tolist():\n",
    "        print(column)\n",
    "        print(df_variables[column].value_counts())\n",
    "        print(\"\")\n"
   ]
  },
  {
   "cell_type": "code",
   "execution_count": 76,
   "metadata": {},
   "outputs": [
    {
     "name": "stdout",
     "output_type": "stream",
     "text": [
      "F    4120\n",
      "M    2021\n",
      "Name: gender, dtype: int64\n"
     ]
    },
    {
     "data": {
      "image/png": "[encoded data removed]",
      "text/plain": [
       "<matplotlib.figure.Figure at 0x7f62941c4da0>"
      ]
     },
     "metadata": {
      "needs_background": "light"
     },
     "output_type": "display_data"
    }
   ],
   "source": [
    "# creating a chart to see if gender is a variable to consider in this category\n",
    "gendershow(df_teens_show,category='Teens')"
   ]
  },
  {
   "cell_type": "markdown",
   "metadata": {},
   "source": [
    "seems Gender will be an important  variable to be considered in predicting no_show in the Teens Category "
   ]
  },
  {
   "cell_type": "code",
   "execution_count": 77,
   "metadata": {},
   "outputs": [
    {
     "data": {
      "text/plain": [
       "count    6141.000000\n",
       "mean        7.313630\n",
       "std        11.870816\n",
       "min         0.000000\n",
       "25%         0.000000\n",
       "50%         1.000000\n",
       "75%        10.000000\n",
       "max        90.000000\n",
       "Name: days_apart, dtype: float64"
      ]
     },
     "execution_count": 77,
     "metadata": {},
     "output_type": "execute_result"
    }
   ],
   "source": [
    "# calling describe method on the days_apart variable \n",
    "df_teens_show['days_apart'].describe()"
   ]
  },
  {
   "cell_type": "code",
   "execution_count": 78,
   "metadata": {},
   "outputs": [
    {
     "data": {
      "text/plain": [
       "count    2021.000000\n",
       "mean        6.644236\n",
       "std        11.792035\n",
       "min         0.000000\n",
       "25%         0.000000\n",
       "50%         0.000000\n",
       "75%         7.000000\n",
       "max        69.000000\n",
       "Name: days_apart, dtype: float64"
      ]
     },
     "execution_count": 78,
     "metadata": {},
     "output_type": "execute_result"
    }
   ],
   "source": [
    "# calling describe method on the days_apart variable for the male gender \n",
    "df_teens_show['days_apart'][df_teens_show['gender']=='M'].describe()"
   ]
  },
  {
   "cell_type": "code",
   "execution_count": 79,
   "metadata": {},
   "outputs": [
    {
     "data": {
      "text/plain": [
       "Text(0,0.5,'Days Difference')"
      ]
     },
     "execution_count": 79,
     "metadata": {},
     "output_type": "execute_result"
    },
    {
     "data": {
      "image/png": "[encoded data removed]",
      "text/plain": [
       "<matplotlib.figure.Figure at 0x7f6294128828>"
      ]
     },
     "metadata": {
      "needs_background": "light"
     },
     "output_type": "display_data"
    }
   ],
   "source": [
    "df_teens_show['days_apart'][df_teens_show['gender']=='M'].plot(kind='box',title='Distribution of the Days_apart Variable Amongst the male Gender');\n",
    "plt.ylabel('Days Difference')"
   ]
  },
  {
   "cell_type": "code",
   "execution_count": 80,
   "metadata": {},
   "outputs": [
    {
     "data": {
      "text/plain": [
       "count    4120.000000\n",
       "mean        7.641990\n",
       "std        11.896933\n",
       "min         0.000000\n",
       "25%         0.000000\n",
       "50%         1.000000\n",
       "75%        11.000000\n",
       "max        90.000000\n",
       "Name: days_apart, dtype: float64"
      ]
     },
     "execution_count": 80,
     "metadata": {},
     "output_type": "execute_result"
    }
   ],
   "source": [
    "df_teens_show['days_apart'][df_teens_show['gender']=='F'].describe()"
   ]
  },
  {
   "cell_type": "code",
   "execution_count": 81,
   "metadata": {},
   "outputs": [
    {
     "data": {
      "image/png": "[encoded data removed]",
      "text/plain": [
       "<matplotlib.figure.Figure at 0x7f6294141668>"
      ]
     },
     "metadata": {
      "needs_background": "light"
     },
     "output_type": "display_data"
    }
   ],
   "source": [
    "df_teens_show['days_apart'][df_teens_show['gender']=='F'].plot(kind='box',title='Distribution of the Days_apart Variable Amongst the Female Gender')\n",
    "plt.ylabel('Days Difference');"
   ]
  },
  {
   "cell_type": "code",
   "execution_count": 82,
   "metadata": {},
   "outputs": [],
   "source": [
    "## Dataset of Teens Category with No Turn out\n",
    "df_teens_noshow=df_teens.query('no_show==\"Yes\"')"
   ]
  },
  {
   "cell_type": "code",
   "execution_count": 83,
   "metadata": {},
   "outputs": [
    {
     "name": "stdout",
     "output_type": "stream",
     "text": [
      "gender\n",
      "F    1372\n",
      "M     758\n",
      "Name: gender, dtype: int64\n",
      "\n",
      "scholarship\n",
      "0    1804\n",
      "1     326\n",
      "Name: scholarship, dtype: int64\n",
      "\n",
      "appointment_day\n",
      "Tuesday      510\n",
      "Wednesday    487\n",
      "Friday       444\n",
      "Monday       364\n",
      "Thursday     324\n",
      "Saturday       1\n",
      "Name: appointment_day, dtype: int64\n",
      "\n",
      "sms\n",
      "0    1265\n",
      "1     865\n",
      "Name: sms, dtype: int64\n",
      "\n",
      "diabetes\n",
      "0    2119\n",
      "1      11\n",
      "Name: diabetes, dtype: int64\n",
      "\n",
      "handicap\n",
      "0    2104\n",
      "1      24\n",
      "3       1\n",
      "2       1\n",
      "Name: handicap, dtype: int64\n",
      "\n"
     ]
    }
   ],
   "source": [
    "df_variables=df_teens_noshow[['gender','scholarship','appointment_day','sms','diabetes','handicap']]\n",
    "for column in df_variables.columns.values.tolist():\n",
    "        print(column)\n",
    "        print(df_variables[column].value_counts())\n",
    "        print(\"\")\n"
   ]
  },
  {
   "cell_type": "code",
   "execution_count": 84,
   "metadata": {},
   "outputs": [
    {
     "data": {
      "text/plain": [
       "count    1372.000000\n",
       "mean       14.776968\n",
       "std        13.736866\n",
       "min         0.000000\n",
       "25%         4.000000\n",
       "50%        11.000000\n",
       "75%        22.000000\n",
       "max        84.000000\n",
       "Name: days_apart, dtype: float64"
      ]
     },
     "execution_count": 84,
     "metadata": {},
     "output_type": "execute_result"
    }
   ],
   "source": [
    "df_teens_noshow['days_apart'][df_teens_noshow['gender']=='F'].describe()"
   ]
  },
  {
   "cell_type": "code",
   "execution_count": 85,
   "metadata": {},
   "outputs": [
    {
     "data": {
      "text/plain": [
       "count    758.000000\n",
       "mean      12.269129\n",
       "std       14.464967\n",
       "min        0.000000\n",
       "25%        0.000000\n",
       "50%        7.000000\n",
       "75%       21.000000\n",
       "max      126.000000\n",
       "Name: days_apart, dtype: float64"
      ]
     },
     "execution_count": 85,
     "metadata": {},
     "output_type": "execute_result"
    }
   ],
   "source": [
    "df_teens_noshow['days_apart'][df_teens_noshow['gender']=='M'].describe()"
   ]
  },
  {
   "cell_type": "markdown",
   "metadata": {},
   "source": [
    "Appointment in the Teens Category will be defaulted if they  tend to occur within a 14 days_apart value and more "
   ]
  },
  {
   "cell_type": "markdown",
   "metadata": {},
   "source": [
    "Next is the **Adult** Category"
   ]
  },
  {
   "cell_type": "code",
   "execution_count": 86,
   "metadata": {},
   "outputs": [
    {
     "name": "stdout",
     "output_type": "stream",
     "text": [
      "Number of Observations that falls within The Adult  Category- 30270\n"
     ]
    },
    {
     "data": {
      "text/html": [
       "<div>\n",
       "<style scoped>\n",
       "    .dataframe tbody tr th:only-of-type {\n",
       "        vertical-align: middle;\n",
       "    }\n",
       "\n",
       "    .dataframe tbody tr th {\n",
       "        vertical-align: top;\n",
       "    }\n",
       "\n",
       "    .dataframe thead th {\n",
       "        text-align: right;\n",
       "    }\n",
       "</style>\n",
       "<table border=\"1\" class=\"dataframe\">\n",
       "  <thead>\n",
       "    <tr style=\"text-align: right;\">\n",
       "      <th></th>\n",
       "      <th>patient_id</th>\n",
       "      <th>appointment_id</th>\n",
       "      <th>gender</th>\n",
       "      <th>scheduled_date</th>\n",
       "      <th>appointment_date</th>\n",
       "      <th>age</th>\n",
       "      <th>neighbourhood</th>\n",
       "      <th>scholarship</th>\n",
       "      <th>hypertension</th>\n",
       "      <th>diabetes</th>\n",
       "      <th>alcoholism</th>\n",
       "      <th>handicap</th>\n",
       "      <th>sms</th>\n",
       "      <th>no_show</th>\n",
       "      <th>scheduled_day</th>\n",
       "      <th>appointment_day</th>\n",
       "      <th>days_apart</th>\n",
       "      <th>age_groups</th>\n",
       "    </tr>\n",
       "  </thead>\n",
       "  <tbody>\n",
       "    <tr>\n",
       "      <th>6</th>\n",
       "      <td>7.336882e+14</td>\n",
       "      <td>5630279</td>\n",
       "      <td>F</td>\n",
       "      <td>2016-04-27</td>\n",
       "      <td>2016-04-29</td>\n",
       "      <td>23</td>\n",
       "      <td>GOIABEIRAS</td>\n",
       "      <td>0</td>\n",
       "      <td>0</td>\n",
       "      <td>0</td>\n",
       "      <td>0</td>\n",
       "      <td>0</td>\n",
       "      <td>0</td>\n",
       "      <td>Yes</td>\n",
       "      <td>Wednesday</td>\n",
       "      <td>Friday</td>\n",
       "      <td>2</td>\n",
       "      <td>Adult</td>\n",
       "    </tr>\n",
       "    <tr>\n",
       "      <th>7</th>\n",
       "      <td>3.449833e+12</td>\n",
       "      <td>5630575</td>\n",
       "      <td>F</td>\n",
       "      <td>2016-04-27</td>\n",
       "      <td>2016-04-29</td>\n",
       "      <td>39</td>\n",
       "      <td>GOIABEIRAS</td>\n",
       "      <td>0</td>\n",
       "      <td>0</td>\n",
       "      <td>0</td>\n",
       "      <td>0</td>\n",
       "      <td>0</td>\n",
       "      <td>0</td>\n",
       "      <td>Yes</td>\n",
       "      <td>Wednesday</td>\n",
       "      <td>Friday</td>\n",
       "      <td>2</td>\n",
       "      <td>Adult</td>\n",
       "    </tr>\n",
       "    <tr>\n",
       "      <th>8</th>\n",
       "      <td>5.639473e+13</td>\n",
       "      <td>5638447</td>\n",
       "      <td>F</td>\n",
       "      <td>2016-04-29</td>\n",
       "      <td>2016-04-29</td>\n",
       "      <td>21</td>\n",
       "      <td>ANDORINHAS</td>\n",
       "      <td>0</td>\n",
       "      <td>0</td>\n",
       "      <td>0</td>\n",
       "      <td>0</td>\n",
       "      <td>0</td>\n",
       "      <td>0</td>\n",
       "      <td>No</td>\n",
       "      <td>Friday</td>\n",
       "      <td>Friday</td>\n",
       "      <td>0</td>\n",
       "      <td>Adult</td>\n",
       "    </tr>\n",
       "    <tr>\n",
       "      <th>10</th>\n",
       "      <td>7.345362e+14</td>\n",
       "      <td>5630213</td>\n",
       "      <td>F</td>\n",
       "      <td>2016-04-27</td>\n",
       "      <td>2016-04-29</td>\n",
       "      <td>30</td>\n",
       "      <td>NOVA PALESTINA</td>\n",
       "      <td>0</td>\n",
       "      <td>0</td>\n",
       "      <td>0</td>\n",
       "      <td>0</td>\n",
       "      <td>0</td>\n",
       "      <td>0</td>\n",
       "      <td>No</td>\n",
       "      <td>Wednesday</td>\n",
       "      <td>Friday</td>\n",
       "      <td>2</td>\n",
       "      <td>Adult</td>\n",
       "    </tr>\n",
       "    <tr>\n",
       "      <th>11</th>\n",
       "      <td>7.542951e+12</td>\n",
       "      <td>5620163</td>\n",
       "      <td>M</td>\n",
       "      <td>2016-04-26</td>\n",
       "      <td>2016-04-29</td>\n",
       "      <td>29</td>\n",
       "      <td>NOVA PALESTINA</td>\n",
       "      <td>0</td>\n",
       "      <td>0</td>\n",
       "      <td>0</td>\n",
       "      <td>0</td>\n",
       "      <td>0</td>\n",
       "      <td>1</td>\n",
       "      <td>Yes</td>\n",
       "      <td>Tuesday</td>\n",
       "      <td>Friday</td>\n",
       "      <td>3</td>\n",
       "      <td>Adult</td>\n",
       "    </tr>\n",
       "  </tbody>\n",
       "</table>\n",
       "</div>"
      ],
      "text/plain": [
       "      patient_id  appointment_id gender scheduled_date appointment_date  age  \\\n",
       "6   7.336882e+14         5630279      F     2016-04-27       2016-04-29   23   \n",
       "7   3.449833e+12         5630575      F     2016-04-27       2016-04-29   39   \n",
       "8   5.639473e+13         5638447      F     2016-04-29       2016-04-29   21   \n",
       "10  7.345362e+14         5630213      F     2016-04-27       2016-04-29   30   \n",
       "11  7.542951e+12         5620163      M     2016-04-26       2016-04-29   29   \n",
       "\n",
       "     neighbourhood  scholarship  hypertension  diabetes  alcoholism  handicap  \\\n",
       "6       GOIABEIRAS            0             0         0           0         0   \n",
       "7       GOIABEIRAS            0             0         0           0         0   \n",
       "8       ANDORINHAS            0             0         0           0         0   \n",
       "10  NOVA PALESTINA            0             0         0           0         0   \n",
       "11  NOVA PALESTINA            0             0         0           0         0   \n",
       "\n",
       "    sms no_show scheduled_day appointment_day  days_apart age_groups  \n",
       "6     0     Yes     Wednesday          Friday           2      Adult  \n",
       "7     0     Yes     Wednesday          Friday           2      Adult  \n",
       "8     0      No        Friday          Friday           0      Adult  \n",
       "10    0      No     Wednesday          Friday           2      Adult  \n",
       "11    1     Yes       Tuesday          Friday           3      Adult  "
      ]
     },
     "execution_count": 86,
     "metadata": {},
     "output_type": "execute_result"
    }
   ],
   "source": [
    "# Adult group \n",
    "df_adult=df.query('age_groups==\"Adult\"')\n",
    "print('Number of Observations that falls within The Adult  Category-', df_adult.shape[0])\n",
    "df_adult.head()"
   ]
  },
  {
   "cell_type": "markdown",
   "metadata": {},
   "source": [
    "The Adult Category constitutes 30% of the dataset"
   ]
  },
  {
   "cell_type": "code",
   "execution_count": 87,
   "metadata": {},
   "outputs": [
    {
     "name": "stdout",
     "output_type": "stream",
     "text": [
      "F    21819\n",
      "M     8451\n",
      "Name: gender, dtype: int64\n"
     ]
    },
    {
     "data": {
      "image/png": "[encoded data removed]",
      "text/plain": [
       "<matplotlib.figure.Figure at 0x7f6294177278>"
      ]
     },
     "metadata": {
      "needs_background": "light"
     },
     "output_type": "display_data"
    }
   ],
   "source": [
    "# gender viz of the Adult category\n",
    "genderviz(df_adult,col='gender',category='Adult')"
   ]
  },
  {
   "cell_type": "markdown",
   "metadata": {},
   "source": [
    "The female gender constitutes at least 2X of the male gender in the Adult Category , this is worth taking note of and it will be explored.<br>Checking for the variables that make up the  Adult Category "
   ]
  },
  {
   "cell_type": "code",
   "execution_count": 88,
   "metadata": {},
   "outputs": [
    {
     "name": "stdout",
     "output_type": "stream",
     "text": [
      "No     23291\n",
      "Yes     6979\n",
      "Name: no_show, dtype: int64\n"
     ]
    },
    {
     "data": {
      "image/png": "[encoded data removed]",
      "text/plain": [
       "<matplotlib.figure.Figure at 0x7f6296390160>"
      ]
     },
     "metadata": {
      "needs_background": "light"
     },
     "output_type": "display_data"
    }
   ],
   "source": [
    "# #no show Variable\n",
    "showviz(df_adult,category='Adult')"
   ]
  },
  {
   "cell_type": "markdown",
   "metadata": {},
   "source": [
    "Approximately 7000 patients defaulted on their appointments,and thats 23% of the Adult age Category ."
   ]
  },
  {
   "cell_type": "code",
   "execution_count": 89,
   "metadata": {},
   "outputs": [
    {
     "name": "stdout",
     "output_type": "stream",
     "text": [
      "gender\n",
      "F    16762\n",
      "M     6529\n",
      "Name: gender, dtype: int64\n",
      "\n",
      "scholarship\n",
      "0    20057\n",
      "1     3234\n",
      "Name: scholarship, dtype: int64\n",
      "\n",
      "appointment_day\n",
      "Wednesday    5572\n",
      "Tuesday      5491\n",
      "Monday       4618\n",
      "Friday       3907\n",
      "Thursday     3696\n",
      "Saturday        7\n",
      "Name: appointment_day, dtype: int64\n",
      "\n",
      "sms\n",
      "0    16397\n",
      "1     6894\n",
      "Name: sms, dtype: int64\n",
      "\n",
      "diabetes\n",
      "0    22892\n",
      "1      399\n",
      "Name: diabetes, dtype: int64\n",
      "\n",
      "alcoholism\n",
      "0    22757\n",
      "1      534\n",
      "Name: alcoholism, dtype: int64\n",
      "\n",
      "handicap\n",
      "0    22907\n",
      "1      352\n",
      "2       32\n",
      "Name: handicap, dtype: int64\n",
      "\n"
     ]
    }
   ],
   "source": [
    "## Dataset of Adult Category with Turn out\n",
    "df_adult_show=df_adult.query('no_show==\"No\"')\n",
    "df_variables=df_adult_show[['gender','scholarship','appointment_day','sms','diabetes','alcoholism','handicap']]\n",
    "for column in df_variables.columns.values.tolist():\n",
    "        print(column)\n",
    "        print(df_variables[column].value_counts())\n",
    "        print(\"\")\n"
   ]
  },
  {
   "cell_type": "markdown",
   "metadata": {},
   "source": [
    "More Than 5000 appointments were defaulted in the female Adult Category ,while 1900 appointments were defaulted by their Male counterparts ,variables such as diabetes, sms , hypertension, alcoholism, and scholarship have a No value(i.e majority of the observations are not alcholic nor receive sms nor diabetic."
   ]
  },
  {
   "cell_type": "code",
   "execution_count": 90,
   "metadata": {},
   "outputs": [
    {
     "data": {
      "text/plain": [
       "count    23291.000000\n",
       "mean         8.181401\n",
       "std         13.032029\n",
       "min          0.000000\n",
       "25%          0.000000\n",
       "50%          2.000000\n",
       "75%         12.000000\n",
       "max        176.000000\n",
       "Name: days_apart, dtype: float64"
      ]
     },
     "execution_count": 90,
     "metadata": {},
     "output_type": "execute_result"
    }
   ],
   "source": [
    "# calling describe method on the days_apart variable \n",
    "df_adult_show['days_apart'].describe()"
   ]
  },
  {
   "cell_type": "code",
   "execution_count": 91,
   "metadata": {},
   "outputs": [
    {
     "data": {
      "text/plain": [
       "count    6529.000000\n",
       "mean        7.147496\n",
       "std        12.697647\n",
       "min         0.000000\n",
       "25%         0.000000\n",
       "50%         1.000000\n",
       "75%         8.000000\n",
       "max       127.000000\n",
       "Name: days_apart, dtype: float64"
      ]
     },
     "execution_count": 91,
     "metadata": {},
     "output_type": "execute_result"
    }
   ],
   "source": [
    "# calling describe method on the days_apart variable for the male gender \n",
    "df_adult_show['days_apart'][df_adult_show['gender']=='M'].describe()"
   ]
  },
  {
   "cell_type": "code",
   "execution_count": 92,
   "metadata": {},
   "outputs": [
    {
     "data": {
      "image/png": "[encoded data removed]",
      "text/plain": [
       "<matplotlib.figure.Figure at 0x7f629648b6a0>"
      ]
     },
     "metadata": {
      "needs_background": "light"
     },
     "output_type": "display_data"
    }
   ],
   "source": [
    "df_adult_show['days_apart'][df_adult_show['gender']=='M'].plot(kind='hist',title='Distribution of the days_apart variable Adult male Category')\n",
    "plt.xlabel('Days Apart Difference');"
   ]
  },
  {
   "cell_type": "code",
   "execution_count": 93,
   "metadata": {},
   "outputs": [
    {
     "data": {
      "text/plain": [
       "count    16762.000000\n",
       "mean         8.584119\n",
       "std         13.138348\n",
       "min          0.000000\n",
       "25%          0.000000\n",
       "50%          2.000000\n",
       "75%         13.000000\n",
       "max        176.000000\n",
       "Name: days_apart, dtype: float64"
      ]
     },
     "execution_count": 93,
     "metadata": {},
     "output_type": "execute_result"
    }
   ],
   "source": [
    "# calling describe method on the days_apart variable for the female gender \n",
    "df_adult_show['days_apart'][df_adult_show['gender']=='F'].describe()"
   ]
  },
  {
   "cell_type": "code",
   "execution_count": 94,
   "metadata": {},
   "outputs": [
    {
     "data": {
      "image/png": "[encoded data removed]",
      "text/plain": [
       "<matplotlib.figure.Figure at 0x7f62966e8860>"
      ]
     },
     "metadata": {
      "needs_background": "light"
     },
     "output_type": "display_data"
    }
   ],
   "source": [
    "df_adult_show['days_apart'][df_adult_show['gender']=='F'].plot(kind='hist',title='Distribution of the days_apart variable Adult Female Category')\n",
    "plt.xlabel('Days Apart Difference');"
   ]
  },
  {
   "cell_type": "code",
   "execution_count": 95,
   "metadata": {},
   "outputs": [
    {
     "name": "stdout",
     "output_type": "stream",
     "text": [
      "gender\n",
      "F    5057\n",
      "M    1922\n",
      "Name: gender, dtype: int64\n",
      "\n",
      "scholarship\n",
      "0    5898\n",
      "1    1081\n",
      "Name: scholarship, dtype: int64\n",
      "\n",
      "appointment_day\n",
      "Tuesday      1641\n",
      "Wednesday    1582\n",
      "Monday       1467\n",
      "Friday       1280\n",
      "Thursday     1007\n",
      "Saturday        2\n",
      "Name: appointment_day, dtype: int64\n",
      "\n",
      "sms\n",
      "0    3587\n",
      "1    3392\n",
      "Name: sms, dtype: int64\n",
      "\n",
      "diabetes\n",
      "0    6866\n",
      "1     113\n",
      "Name: diabetes, dtype: int64\n",
      "\n",
      "alcoholism\n",
      "0    6779\n",
      "1     200\n",
      "Name: alcoholism, dtype: int64\n",
      "\n",
      "handicap\n",
      "0    6901\n",
      "1      72\n",
      "2       6\n",
      "Name: handicap, dtype: int64\n",
      "\n"
     ]
    }
   ],
   "source": [
    "## Dataset of Adult Category with No Turn out\n",
    "df_adult_noshow=df_adult.query('no_show==\"Yes\"')\n",
    "df_variables=df_adult_noshow[['gender','scholarship','appointment_day','sms','diabetes','alcoholism','handicap']]\n",
    "for column in df_variables.columns.values.tolist():\n",
    "        print(column)\n",
    "        print(df_variables[column].value_counts())\n",
    "        print(\"\")\n"
   ]
  },
  {
   "cell_type": "code",
   "execution_count": 96,
   "metadata": {},
   "outputs": [
    {
     "data": {
      "text/plain": [
       "count    6979.000000\n",
       "mean       15.966614\n",
       "std        15.234224\n",
       "min         0.000000\n",
       "25%         5.000000\n",
       "50%        12.000000\n",
       "75%        23.000000\n",
       "max       179.000000\n",
       "Name: days_apart, dtype: float64"
      ]
     },
     "execution_count": 96,
     "metadata": {},
     "output_type": "execute_result"
    }
   ],
   "source": [
    "df_adult_noshow['days_apart'].describe()"
   ]
  },
  {
   "cell_type": "markdown",
   "metadata": {},
   "source": [
    "days apart variable and gender will make a really good factor in predicting no show among Adult patients .  "
   ]
  },
  {
   "cell_type": "code",
   "execution_count": 97,
   "metadata": {},
   "outputs": [
    {
     "data": {
      "text/plain": [
       "Adult           30270\n",
       "Senior Adult    30081\n",
       "Elderly         19761\n",
       "Child           10407\n",
       "Teens            8271\n",
       "Toddler          4301\n",
       "Infant           3891\n",
       "Name: age_groups, dtype: int64"
      ]
     },
     "execution_count": 97,
     "metadata": {},
     "output_type": "execute_result"
    }
   ],
   "source": [
    "df['age_groups'].value_counts()"
   ]
  },
  {
   "cell_type": "code",
   "execution_count": 98,
   "metadata": {},
   "outputs": [
    {
     "name": "stdout",
     "output_type": "stream",
     "text": [
      "Number of Observations that falls within The Senior Adult  Category- 30081\n"
     ]
    },
    {
     "data": {
      "text/html": [
       "<div>\n",
       "<style scoped>\n",
       "    .dataframe tbody tr th:only-of-type {\n",
       "        vertical-align: middle;\n",
       "    }\n",
       "\n",
       "    .dataframe tbody tr th {\n",
       "        vertical-align: top;\n",
       "    }\n",
       "\n",
       "    .dataframe thead th {\n",
       "        text-align: right;\n",
       "    }\n",
       "</style>\n",
       "<table border=\"1\" class=\"dataframe\">\n",
       "  <thead>\n",
       "    <tr style=\"text-align: right;\">\n",
       "      <th></th>\n",
       "      <th>patient_id</th>\n",
       "      <th>appointment_id</th>\n",
       "      <th>gender</th>\n",
       "      <th>scheduled_date</th>\n",
       "      <th>appointment_date</th>\n",
       "      <th>age</th>\n",
       "      <th>neighbourhood</th>\n",
       "      <th>scholarship</th>\n",
       "      <th>hypertension</th>\n",
       "      <th>diabetes</th>\n",
       "      <th>alcoholism</th>\n",
       "      <th>handicap</th>\n",
       "      <th>sms</th>\n",
       "      <th>no_show</th>\n",
       "      <th>scheduled_day</th>\n",
       "      <th>appointment_day</th>\n",
       "      <th>days_apart</th>\n",
       "      <th>age_groups</th>\n",
       "    </tr>\n",
       "  </thead>\n",
       "  <tbody>\n",
       "    <tr>\n",
       "      <th>1</th>\n",
       "      <td>5.589978e+14</td>\n",
       "      <td>5642503</td>\n",
       "      <td>M</td>\n",
       "      <td>2016-04-29</td>\n",
       "      <td>2016-04-29</td>\n",
       "      <td>56</td>\n",
       "      <td>JARDIM DA PENHA</td>\n",
       "      <td>0</td>\n",
       "      <td>0</td>\n",
       "      <td>0</td>\n",
       "      <td>0</td>\n",
       "      <td>0</td>\n",
       "      <td>0</td>\n",
       "      <td>No</td>\n",
       "      <td>Friday</td>\n",
       "      <td>Friday</td>\n",
       "      <td>0</td>\n",
       "      <td>Senior Adult</td>\n",
       "    </tr>\n",
       "    <tr>\n",
       "      <th>4</th>\n",
       "      <td>8.841186e+12</td>\n",
       "      <td>5642494</td>\n",
       "      <td>F</td>\n",
       "      <td>2016-04-29</td>\n",
       "      <td>2016-04-29</td>\n",
       "      <td>56</td>\n",
       "      <td>JARDIM DA PENHA</td>\n",
       "      <td>0</td>\n",
       "      <td>1</td>\n",
       "      <td>1</td>\n",
       "      <td>0</td>\n",
       "      <td>0</td>\n",
       "      <td>0</td>\n",
       "      <td>No</td>\n",
       "      <td>Friday</td>\n",
       "      <td>Friday</td>\n",
       "      <td>0</td>\n",
       "      <td>Senior Adult</td>\n",
       "    </tr>\n",
       "    <tr>\n",
       "      <th>14</th>\n",
       "      <td>9.988472e+13</td>\n",
       "      <td>5633951</td>\n",
       "      <td>F</td>\n",
       "      <td>2016-04-28</td>\n",
       "      <td>2016-04-29</td>\n",
       "      <td>54</td>\n",
       "      <td>NOVA PALESTINA</td>\n",
       "      <td>0</td>\n",
       "      <td>0</td>\n",
       "      <td>0</td>\n",
       "      <td>0</td>\n",
       "      <td>0</td>\n",
       "      <td>0</td>\n",
       "      <td>No</td>\n",
       "      <td>Thursday</td>\n",
       "      <td>Friday</td>\n",
       "      <td>1</td>\n",
       "      <td>Senior Adult</td>\n",
       "    </tr>\n",
       "    <tr>\n",
       "      <th>16</th>\n",
       "      <td>8.457439e+13</td>\n",
       "      <td>5633121</td>\n",
       "      <td>M</td>\n",
       "      <td>2016-04-28</td>\n",
       "      <td>2016-04-29</td>\n",
       "      <td>50</td>\n",
       "      <td>NOVA PALESTINA</td>\n",
       "      <td>0</td>\n",
       "      <td>0</td>\n",
       "      <td>0</td>\n",
       "      <td>0</td>\n",
       "      <td>0</td>\n",
       "      <td>0</td>\n",
       "      <td>No</td>\n",
       "      <td>Thursday</td>\n",
       "      <td>Friday</td>\n",
       "      <td>1</td>\n",
       "      <td>Senior Adult</td>\n",
       "    </tr>\n",
       "    <tr>\n",
       "      <th>19</th>\n",
       "      <td>7.223289e+12</td>\n",
       "      <td>5640433</td>\n",
       "      <td>F</td>\n",
       "      <td>2016-04-29</td>\n",
       "      <td>2016-04-29</td>\n",
       "      <td>46</td>\n",
       "      <td>DA PENHA</td>\n",
       "      <td>0</td>\n",
       "      <td>0</td>\n",
       "      <td>0</td>\n",
       "      <td>0</td>\n",
       "      <td>0</td>\n",
       "      <td>0</td>\n",
       "      <td>No</td>\n",
       "      <td>Friday</td>\n",
       "      <td>Friday</td>\n",
       "      <td>0</td>\n",
       "      <td>Senior Adult</td>\n",
       "    </tr>\n",
       "  </tbody>\n",
       "</table>\n",
       "</div>"
      ],
      "text/plain": [
       "      patient_id  appointment_id gender scheduled_date appointment_date  age  \\\n",
       "1   5.589978e+14         5642503      M     2016-04-29       2016-04-29   56   \n",
       "4   8.841186e+12         5642494      F     2016-04-29       2016-04-29   56   \n",
       "14  9.988472e+13         5633951      F     2016-04-28       2016-04-29   54   \n",
       "16  8.457439e+13         5633121      M     2016-04-28       2016-04-29   50   \n",
       "19  7.223289e+12         5640433      F     2016-04-29       2016-04-29   46   \n",
       "\n",
       "      neighbourhood  scholarship  hypertension  diabetes  alcoholism  \\\n",
       "1   JARDIM DA PENHA            0             0         0           0   \n",
       "4   JARDIM DA PENHA            0             1         1           0   \n",
       "14   NOVA PALESTINA            0             0         0           0   \n",
       "16   NOVA PALESTINA            0             0         0           0   \n",
       "19         DA PENHA            0             0         0           0   \n",
       "\n",
       "    handicap  sms no_show scheduled_day appointment_day  days_apart  \\\n",
       "1          0    0      No        Friday          Friday           0   \n",
       "4          0    0      No        Friday          Friday           0   \n",
       "14         0    0      No      Thursday          Friday           1   \n",
       "16         0    0      No      Thursday          Friday           1   \n",
       "19         0    0      No        Friday          Friday           0   \n",
       "\n",
       "      age_groups  \n",
       "1   Senior Adult  \n",
       "4   Senior Adult  \n",
       "14  Senior Adult  \n",
       "16  Senior Adult  \n",
       "19  Senior Adult  "
      ]
     },
     "execution_count": 98,
     "metadata": {},
     "output_type": "execute_result"
    }
   ],
   "source": [
    "# Senior Adult group \n",
    "df_snr_adult=df.query('age_groups==\"Senior Adult\"')\n",
    "print('Number of Observations that falls within The Senior Adult  Category-', df_snr_adult.shape[0])\n",
    "df_snr_adult.head()"
   ]
  },
  {
   "cell_type": "markdown",
   "metadata": {},
   "source": [
    "The senior Adult category approximately constitutes about 30% of the entire dataset."
   ]
  },
  {
   "cell_type": "code",
   "execution_count": 99,
   "metadata": {},
   "outputs": [
    {
     "name": "stdout",
     "output_type": "stream",
     "text": [
      "F    20668\n",
      "M     9413\n",
      "Name: gender, dtype: int64\n"
     ]
    },
    {
     "data": {
      "image/png": "[encoded data removed]",
      "text/plain": [
       "<matplotlib.figure.Figure at 0x7f6296659780>"
      ]
     },
     "metadata": {
      "needs_background": "light"
     },
     "output_type": "display_data"
    }
   ],
   "source": [
    "## Gender visualization of The Snr Adult Category\n",
    "genderviz(df_snr_adult,col='gender',category='Snr Adult')"
   ]
  },
  {
   "cell_type": "markdown",
   "metadata": {},
   "source": [
    "The female number of observations is at least 2X of of their male counterparts , and this have been happening from the teens Category ."
   ]
  },
  {
   "cell_type": "code",
   "execution_count": 100,
   "metadata": {},
   "outputs": [
    {
     "name": "stdout",
     "output_type": "stream",
     "text": [
      "No     24490\n",
      "Yes     5591\n",
      "Name: no_show, dtype: int64\n"
     ]
    },
    {
     "data": {
      "image/png": "[encoded data removed]",
      "text/plain": [
       "<matplotlib.figure.Figure at 0x7f62941ff198>"
      ]
     },
     "metadata": {
      "needs_background": "light"
     },
     "output_type": "display_data"
    }
   ],
   "source": [
    "#no show Variable\n",
    "showviz(df_snr_adult,category='Snr Adult ')"
   ]
  },
  {
   "cell_type": "markdown",
   "metadata": {},
   "source": [
    "5,000 observations were default appointments ,out of the total 30,000 Observations "
   ]
  },
  {
   "cell_type": "code",
   "execution_count": 101,
   "metadata": {},
   "outputs": [
    {
     "name": "stdout",
     "output_type": "stream",
     "text": [
      "gender\n",
      "F    16798\n",
      "M     7692\n",
      "Name: gender, dtype: int64\n",
      "\n",
      "scholarship\n",
      "0    22462\n",
      "1     2028\n",
      "Name: scholarship, dtype: int64\n",
      "\n",
      "appointment_day\n",
      "Wednesday    5800\n",
      "Tuesday      5681\n",
      "Monday       4989\n",
      "Friday       4122\n",
      "Thursday     3884\n",
      "Saturday       14\n",
      "Name: appointment_day, dtype: int64\n",
      "\n",
      "sms\n",
      "0    16834\n",
      "1     7656\n",
      "Name: sms, dtype: int64\n",
      "\n",
      "diabetes\n",
      "0    22073\n",
      "1     2417\n",
      "Name: diabetes, dtype: int64\n",
      "\n",
      "alcoholism\n",
      "0    22998\n",
      "1     1492\n",
      "Name: alcoholism, dtype: int64\n",
      "\n",
      "handicap\n",
      "0    23943\n",
      "1      517\n",
      "2       28\n",
      "3        2\n",
      "Name: handicap, dtype: int64\n",
      "\n"
     ]
    }
   ],
   "source": [
    "## Dataset of Senior Adult Category with Turn out\n",
    "df_snr_adult_show=df_snr_adult.query('no_show==\"No\"')\n",
    "df_variables=df_snr_adult_show[['gender','scholarship','appointment_day','sms','diabetes','alcoholism','handicap']]\n",
    "for column in df_variables.columns.values.tolist():\n",
    "        print(column)\n",
    "        print(df_variables[column].value_counts())\n",
    "        print(\"\")\n"
   ]
  },
  {
   "cell_type": "markdown",
   "metadata": {},
   "source": [
    "Over 3500 appointments were defualt courtesy of the female ,while over 1500 default from the senior Adult Male Category.The sms variable evened out, very less patients are on scholarship ,alchol and being handicaped too .<br> **Exploring the days_apart Variable**  "
   ]
  },
  {
   "cell_type": "code",
   "execution_count": 102,
   "metadata": {},
   "outputs": [
    {
     "data": {
      "text/plain": [
       "count    24490.000000\n",
       "mean         9.211556\n",
       "std         15.092524\n",
       "min          0.000000\n",
       "25%          0.000000\n",
       "50%          3.000000\n",
       "75%         13.000000\n",
       "max        179.000000\n",
       "Name: days_apart, dtype: float64"
      ]
     },
     "execution_count": 102,
     "metadata": {},
     "output_type": "execute_result"
    }
   ],
   "source": [
    "# calling describe method on the days_apart variable \n",
    "df_snr_adult_show['days_apart'].describe()"
   ]
  },
  {
   "cell_type": "code",
   "execution_count": 103,
   "metadata": {},
   "outputs": [
    {
     "data": {
      "text/plain": [
       "count    16798.000000\n",
       "mean         9.660436\n",
       "std         15.422310\n",
       "min          0.000000\n",
       "25%          0.000000\n",
       "50%          3.000000\n",
       "75%         14.000000\n",
       "max        179.000000\n",
       "Name: days_apart, dtype: float64"
      ]
     },
     "execution_count": 103,
     "metadata": {},
     "output_type": "execute_result"
    }
   ],
   "source": [
    "# calling describe method on the days_apart variable for the female gender \n",
    "df_snr_adult_show['days_apart'][df_snr_adult_show['gender']=='F'].describe()\n"
   ]
  },
  {
   "cell_type": "code",
   "execution_count": 104,
   "metadata": {},
   "outputs": [
    {
     "data": {
      "text/plain": [
       "count    7692.000000\n",
       "mean        8.231279\n",
       "std        14.298058\n",
       "min         0.000000\n",
       "25%         0.000000\n",
       "50%         2.000000\n",
       "75%         9.000000\n",
       "max       176.000000\n",
       "Name: days_apart, dtype: float64"
      ]
     },
     "execution_count": 104,
     "metadata": {},
     "output_type": "execute_result"
    }
   ],
   "source": [
    "# calling describe method on the days_apart variable for the male gender \n",
    "df_snr_adult_show['days_apart'][df_snr_adult_show['gender']=='M'].describe()"
   ]
  },
  {
   "cell_type": "code",
   "execution_count": 105,
   "metadata": {},
   "outputs": [
    {
     "data": {
      "image/png": "[encoded data removed]",
      "text/plain": [
       "<matplotlib.figure.Figure at 0x7f6296534748>"
      ]
     },
     "metadata": {
      "needs_background": "light"
     },
     "output_type": "display_data"
    }
   ],
   "source": [
    "#df_snr_adult_show['days_apart'].plot(kind='hist',title='Distribution of the days_apart variable Senior Adult Category',bins=30);\n",
    "showdays(df_snr_adult_show,category='Snr Adult')"
   ]
  },
  {
   "cell_type": "markdown",
   "metadata": {},
   "source": [
    "The days_apart variable is right skewed ,most appointments of the senior Adult Group occur within zero and 5days difference,the days_apart variable will be a factor to be considered in predciting a no show."
   ]
  },
  {
   "cell_type": "code",
   "execution_count": 106,
   "metadata": {},
   "outputs": [
    {
     "name": "stdout",
     "output_type": "stream",
     "text": [
      "gender\n",
      "F    3870\n",
      "M    1721\n",
      "Name: gender, dtype: int64\n",
      "\n",
      "scholarship\n",
      "0    5017\n",
      "1     574\n",
      "Name: scholarship, dtype: int64\n",
      "\n",
      "appointment_day\n",
      "Tuesday      1310\n",
      "Monday       1230\n",
      "Wednesday    1221\n",
      "Friday        966\n",
      "Thursday      862\n",
      "Saturday        2\n",
      "Name: appointment_day, dtype: int64\n",
      "\n",
      "sms\n",
      "0    3150\n",
      "1    2441\n",
      "Name: sms, dtype: int64\n",
      "\n",
      "diabetes\n",
      "0    5020\n",
      "1     571\n",
      "Name: diabetes, dtype: int64\n",
      "\n",
      "alcoholism\n",
      "0    5223\n",
      "1     368\n",
      "Name: alcoholism, dtype: int64\n",
      "\n",
      "handicap\n",
      "0    5476\n",
      "1     105\n",
      "2      10\n",
      "Name: handicap, dtype: int64\n",
      "\n"
     ]
    }
   ],
   "source": [
    "## Dataset of Adult Category with No Turn out\n",
    "df_snr_adult_noshow=df_snr_adult.query('no_show==\"Yes\"')\n",
    "df_variables=df_snr_adult_noshow[['gender','scholarship','appointment_day','sms','diabetes','alcoholism','handicap']]\n",
    "for column in df_variables.columns.values.tolist():\n",
    "        print(column)\n",
    "        print(df_variables[column].value_counts())\n",
    "        print(\"\")\n"
   ]
  },
  {
   "cell_type": "code",
   "execution_count": 107,
   "metadata": {},
   "outputs": [
    {
     "data": {
      "image/png": "[encoded data removed]",
      "text/plain": [
       "<matplotlib.figure.Figure at 0x7f6294154668>"
      ]
     },
     "metadata": {
      "needs_background": "light"
     },
     "output_type": "display_data"
    }
   ],
   "source": [
    "# calling the noshowdays function on the Snr Adult Category with No turn out\n",
    "noshowdays(df_snr_adult_noshow,category='Snr Adult')"
   ]
  },
  {
   "cell_type": "markdown",
   "metadata": {},
   "source": [
    "For the senior Adult Category ,gender and days_apart variable will be a good factor to be considered in predicting no show"
   ]
  },
  {
   "cell_type": "markdown",
   "metadata": {},
   "source": [
    "**Elderly Category**"
   ]
  },
  {
   "cell_type": "code",
   "execution_count": 108,
   "metadata": {},
   "outputs": [
    {
     "name": "stdout",
     "output_type": "stream",
     "text": [
      "Number of Observations that falls within The Elderly  Category- 19761\n"
     ]
    },
    {
     "data": {
      "text/html": [
       "<div>\n",
       "<style scoped>\n",
       "    .dataframe tbody tr th:only-of-type {\n",
       "        vertical-align: middle;\n",
       "    }\n",
       "\n",
       "    .dataframe tbody tr th {\n",
       "        vertical-align: top;\n",
       "    }\n",
       "\n",
       "    .dataframe thead th {\n",
       "        text-align: right;\n",
       "    }\n",
       "</style>\n",
       "<table border=\"1\" class=\"dataframe\">\n",
       "  <thead>\n",
       "    <tr style=\"text-align: right;\">\n",
       "      <th></th>\n",
       "      <th>patient_id</th>\n",
       "      <th>appointment_id</th>\n",
       "      <th>gender</th>\n",
       "      <th>scheduled_date</th>\n",
       "      <th>appointment_date</th>\n",
       "      <th>age</th>\n",
       "      <th>neighbourhood</th>\n",
       "      <th>scholarship</th>\n",
       "      <th>hypertension</th>\n",
       "      <th>diabetes</th>\n",
       "      <th>alcoholism</th>\n",
       "      <th>handicap</th>\n",
       "      <th>sms</th>\n",
       "      <th>no_show</th>\n",
       "      <th>scheduled_day</th>\n",
       "      <th>appointment_day</th>\n",
       "      <th>days_apart</th>\n",
       "      <th>age_groups</th>\n",
       "    </tr>\n",
       "  </thead>\n",
       "  <tbody>\n",
       "    <tr>\n",
       "      <th>0</th>\n",
       "      <td>2.987250e+13</td>\n",
       "      <td>5642903</td>\n",
       "      <td>F</td>\n",
       "      <td>2016-04-29</td>\n",
       "      <td>2016-04-29</td>\n",
       "      <td>62</td>\n",
       "      <td>JARDIM DA PENHA</td>\n",
       "      <td>0</td>\n",
       "      <td>1</td>\n",
       "      <td>0</td>\n",
       "      <td>0</td>\n",
       "      <td>0</td>\n",
       "      <td>0</td>\n",
       "      <td>No</td>\n",
       "      <td>Friday</td>\n",
       "      <td>Friday</td>\n",
       "      <td>0</td>\n",
       "      <td>Elderly</td>\n",
       "    </tr>\n",
       "    <tr>\n",
       "      <th>2</th>\n",
       "      <td>4.262962e+12</td>\n",
       "      <td>5642549</td>\n",
       "      <td>F</td>\n",
       "      <td>2016-04-29</td>\n",
       "      <td>2016-04-29</td>\n",
       "      <td>62</td>\n",
       "      <td>MATA DA PRAIA</td>\n",
       "      <td>0</td>\n",
       "      <td>0</td>\n",
       "      <td>0</td>\n",
       "      <td>0</td>\n",
       "      <td>0</td>\n",
       "      <td>0</td>\n",
       "      <td>No</td>\n",
       "      <td>Friday</td>\n",
       "      <td>Friday</td>\n",
       "      <td>0</td>\n",
       "      <td>Elderly</td>\n",
       "    </tr>\n",
       "    <tr>\n",
       "      <th>5</th>\n",
       "      <td>9.598513e+13</td>\n",
       "      <td>5626772</td>\n",
       "      <td>F</td>\n",
       "      <td>2016-04-27</td>\n",
       "      <td>2016-04-29</td>\n",
       "      <td>76</td>\n",
       "      <td>REPÚBLICA</td>\n",
       "      <td>0</td>\n",
       "      <td>1</td>\n",
       "      <td>0</td>\n",
       "      <td>0</td>\n",
       "      <td>0</td>\n",
       "      <td>0</td>\n",
       "      <td>No</td>\n",
       "      <td>Wednesday</td>\n",
       "      <td>Friday</td>\n",
       "      <td>2</td>\n",
       "      <td>Elderly</td>\n",
       "    </tr>\n",
       "    <tr>\n",
       "      <th>24</th>\n",
       "      <td>8.734858e+12</td>\n",
       "      <td>5641780</td>\n",
       "      <td>F</td>\n",
       "      <td>2016-04-29</td>\n",
       "      <td>2016-04-29</td>\n",
       "      <td>65</td>\n",
       "      <td>TABUAZEIRO</td>\n",
       "      <td>0</td>\n",
       "      <td>0</td>\n",
       "      <td>0</td>\n",
       "      <td>0</td>\n",
       "      <td>0</td>\n",
       "      <td>0</td>\n",
       "      <td>No</td>\n",
       "      <td>Friday</td>\n",
       "      <td>Friday</td>\n",
       "      <td>0</td>\n",
       "      <td>Elderly</td>\n",
       "    </tr>\n",
       "    <tr>\n",
       "      <th>32</th>\n",
       "      <td>5.288356e+13</td>\n",
       "      <td>5637908</td>\n",
       "      <td>M</td>\n",
       "      <td>2016-04-29</td>\n",
       "      <td>2016-04-29</td>\n",
       "      <td>61</td>\n",
       "      <td>SÃO CRISTÓVÃO</td>\n",
       "      <td>0</td>\n",
       "      <td>1</td>\n",
       "      <td>0</td>\n",
       "      <td>0</td>\n",
       "      <td>0</td>\n",
       "      <td>0</td>\n",
       "      <td>No</td>\n",
       "      <td>Friday</td>\n",
       "      <td>Friday</td>\n",
       "      <td>0</td>\n",
       "      <td>Elderly</td>\n",
       "    </tr>\n",
       "  </tbody>\n",
       "</table>\n",
       "</div>"
      ],
      "text/plain": [
       "      patient_id  appointment_id gender scheduled_date appointment_date  age  \\\n",
       "0   2.987250e+13         5642903      F     2016-04-29       2016-04-29   62   \n",
       "2   4.262962e+12         5642549      F     2016-04-29       2016-04-29   62   \n",
       "5   9.598513e+13         5626772      F     2016-04-27       2016-04-29   76   \n",
       "24  8.734858e+12         5641780      F     2016-04-29       2016-04-29   65   \n",
       "32  5.288356e+13         5637908      M     2016-04-29       2016-04-29   61   \n",
       "\n",
       "      neighbourhood  scholarship  hypertension  diabetes  alcoholism  \\\n",
       "0   JARDIM DA PENHA            0             1         0           0   \n",
       "2     MATA DA PRAIA            0             0         0           0   \n",
       "5         REPÚBLICA            0             1         0           0   \n",
       "24       TABUAZEIRO            0             0         0           0   \n",
       "32    SÃO CRISTÓVÃO            0             1         0           0   \n",
       "\n",
       "    handicap  sms no_show scheduled_day appointment_day  days_apart age_groups  \n",
       "0          0    0      No        Friday          Friday           0    Elderly  \n",
       "2          0    0      No        Friday          Friday           0    Elderly  \n",
       "5          0    0      No     Wednesday          Friday           2    Elderly  \n",
       "24         0    0      No        Friday          Friday           0    Elderly  \n",
       "32         0    0      No        Friday          Friday           0    Elderly  "
      ]
     },
     "execution_count": 108,
     "metadata": {},
     "output_type": "execute_result"
    }
   ],
   "source": [
    "# Elderly group \n",
    "df_elderly=df.query('age_groups==\"Elderly\"')\n",
    "print('Number of Observations that falls within The Elderly  Category-', df_elderly.shape[0])\n",
    "df_elderly.head()"
   ]
  },
  {
   "cell_type": "markdown",
   "metadata": {},
   "source": [
    "The elderly Group is responsible for approximately 20% of the Dataset "
   ]
  },
  {
   "cell_type": "code",
   "execution_count": 109,
   "metadata": {},
   "outputs": [
    {
     "name": "stdout",
     "output_type": "stream",
     "text": [
      "F    20668\n",
      "M     9413\n",
      "Name: gender, dtype: int64\n"
     ]
    },
    {
     "data": {
      "image/png": "[encoded data removed]",
      "text/plain": [
       "<matplotlib.figure.Figure at 0x7f6294206ef0>"
      ]
     },
     "metadata": {
      "needs_background": "light"
     },
     "output_type": "display_data"
    }
   ],
   "source": [
    "# Gender Viz of the Elderly Age group\n",
    "genderviz(df_snr_adult,col='gender',category='Snr Adult')"
   ]
  },
  {
   "cell_type": "markdown",
   "metadata": {},
   "source": [
    "The Female is also at least 2X of their counterparts in this category "
   ]
  },
  {
   "cell_type": "code",
   "execution_count": 110,
   "metadata": {},
   "outputs": [
    {
     "name": "stdout",
     "output_type": "stream",
     "text": [
      "No     16756\n",
      "Yes     3005\n",
      "Name: no_show, dtype: int64\n"
     ]
    },
    {
     "data": {
      "image/png": "[encoded data removed]",
      "text/plain": [
       "<matplotlib.figure.Figure at 0x7f6293f7be10>"
      ]
     },
     "metadata": {
      "needs_background": "light"
     },
     "output_type": "display_data"
    }
   ],
   "source": [
    "#no show Variable\n",
    "showviz(df_elderly,category='Elderly')"
   ]
  },
  {
   "cell_type": "code",
   "execution_count": 111,
   "metadata": {},
   "outputs": [
    {
     "name": "stdout",
     "output_type": "stream",
     "text": [
      "gender\n",
      "F    11198\n",
      "M     5558\n",
      "Name: gender, dtype: int64\n",
      "\n",
      "scholarship\n",
      "0    16302\n",
      "1      454\n",
      "Name: scholarship, dtype: int64\n",
      "\n",
      "appointment_day\n",
      "Wednesday    3913\n",
      "Tuesday      3876\n",
      "Monday       3442\n",
      "Friday       2888\n",
      "Thursday     2628\n",
      "Saturday        9\n",
      "Name: appointment_day, dtype: int64\n",
      "\n",
      "sms\n",
      "0    11803\n",
      "1     4953\n",
      "Name: sms, dtype: int64\n",
      "\n",
      "diabetes\n",
      "0    13099\n",
      "1     3657\n",
      "Name: diabetes, dtype: int64\n",
      "\n",
      "alcoholism\n",
      "0    16117\n",
      "1      639\n",
      "Name: alcoholism, dtype: int64\n",
      "\n",
      "handicap\n",
      "0    16067\n",
      "1      636\n",
      "2       47\n",
      "3        6\n",
      "Name: handicap, dtype: int64\n",
      "\n"
     ]
    }
   ],
   "source": [
    "## Dataset of Elderly Category with Turn out\n",
    "df_elderly_show=df_elderly.query('no_show==\"No\"')\n",
    "df_variables=df_elderly_show[['gender','scholarship','appointment_day','sms','diabetes','alcoholism','handicap']]\n",
    "for column in df_variables.columns.values.tolist():\n",
    "        print(column)\n",
    "        print(df_variables[column].value_counts())\n",
    "        print(\"\")\n"
   ]
  },
  {
   "cell_type": "markdown",
   "metadata": {},
   "source": [
    "The sms variable has disproportionate value, very less patients are on scholarship ,alchol and being handicaped too .<br> **Exploring the days_apart Variable**  "
   ]
  },
  {
   "cell_type": "code",
   "execution_count": 112,
   "metadata": {},
   "outputs": [
    {
     "data": {
      "text/plain": [
       "count    19761.000000\n",
       "mean        11.155711\n",
       "std         18.581231\n",
       "min          0.000000\n",
       "25%          0.000000\n",
       "50%          4.000000\n",
       "75%         14.000000\n",
       "max        179.000000\n",
       "Name: days_apart, dtype: float64"
      ]
     },
     "execution_count": 112,
     "metadata": {},
     "output_type": "execute_result"
    }
   ],
   "source": [
    "# calling describe method on the days_apart variable \n",
    "df_elderly['days_apart'].describe()"
   ]
  },
  {
   "cell_type": "markdown",
   "metadata": {},
   "source": [
    "Most appointment in This category occur between zero to 6 days difference"
   ]
  },
  {
   "cell_type": "code",
   "execution_count": 113,
   "metadata": {},
   "outputs": [
    {
     "data": {
      "text/plain": [
       "count    5558.000000\n",
       "mean        9.807845\n",
       "std        17.118629\n",
       "min         0.000000\n",
       "25%         0.000000\n",
       "50%         2.000000\n",
       "75%        12.000000\n",
       "max       179.000000\n",
       "Name: days_apart, dtype: float64"
      ]
     },
     "execution_count": 113,
     "metadata": {},
     "output_type": "execute_result"
    }
   ],
   "source": [
    "# calling describe method on the days_apart variable for the male gender \n",
    "df_elderly_show['days_apart'][df_elderly_show['gender']=='M'].describe()"
   ]
  },
  {
   "cell_type": "code",
   "execution_count": 114,
   "metadata": {},
   "outputs": [
    {
     "data": {
      "text/plain": [
       "count    11198.000000\n",
       "mean        10.407394\n",
       "std         18.202201\n",
       "min          0.000000\n",
       "25%          0.000000\n",
       "50%          3.000000\n",
       "75%         13.000000\n",
       "max        179.000000\n",
       "Name: days_apart, dtype: float64"
      ]
     },
     "execution_count": 114,
     "metadata": {},
     "output_type": "execute_result"
    }
   ],
   "source": [
    "# calling describe method on the days_apart variable for the female gender \n",
    "df_elderly_show['days_apart'][df_elderly_show['gender']=='F'].describe()\n"
   ]
  },
  {
   "cell_type": "code",
   "execution_count": 115,
   "metadata": {},
   "outputs": [
    {
     "data": {
      "image/png": "[encoded data removed]",
      "text/plain": [
       "<matplotlib.figure.Figure at 0x7f6293ed09e8>"
      ]
     },
     "metadata": {
      "needs_background": "light"
     },
     "output_type": "display_data"
    }
   ],
   "source": [
    "showdays(df_elderly_show,category='Elderly')"
   ]
  },
  {
   "cell_type": "code",
   "execution_count": 116,
   "metadata": {},
   "outputs": [
    {
     "name": "stdout",
     "output_type": "stream",
     "text": [
      "gender\n",
      "F    2075\n",
      "M     930\n",
      "Name: gender, dtype: int64\n",
      "\n",
      "scholarship\n",
      "0    2921\n",
      "1      84\n",
      "Name: scholarship, dtype: int64\n",
      "\n",
      "appointment_day\n",
      "Tuesday      721\n",
      "Wednesday    669\n",
      "Monday       620\n",
      "Friday       532\n",
      "Thursday     459\n",
      "Saturday       4\n",
      "Name: appointment_day, dtype: int64\n",
      "\n",
      "sms\n",
      "0    1826\n",
      "1    1179\n",
      "Name: sms, dtype: int64\n",
      "\n",
      "diabetes\n",
      "0    2275\n",
      "1     730\n",
      "Name: diabetes, dtype: int64\n",
      "\n",
      "alcoholism\n",
      "0    2909\n",
      "1      96\n",
      "Name: alcoholism, dtype: int64\n",
      "\n",
      "handicap\n",
      "0    2870\n",
      "1     117\n",
      "2      17\n",
      "3       1\n",
      "Name: handicap, dtype: int64\n",
      "\n"
     ]
    }
   ],
   "source": [
    "## Dataset of Elderly Category with No  Turn out\n",
    "df_elderly_noshow=df_elderly.query('no_show==\"Yes\"')\n",
    "df_variables=df_elderly_noshow[['gender','scholarship','appointment_day','sms','diabetes','alcoholism','handicap']]\n",
    "for column in df_variables.columns.values.tolist():\n",
    "        print(column)\n",
    "        print(df_variables[column].value_counts())\n",
    "        print(\"\")\n"
   ]
  },
  {
   "cell_type": "code",
   "execution_count": 117,
   "metadata": {},
   "outputs": [
    {
     "data": {
      "image/png": "[encoded data removed]",
      "text/plain": [
       "<matplotlib.figure.Figure at 0x7f6293e5d550>"
      ]
     },
     "metadata": {
      "needs_background": "light"
     },
     "output_type": "display_data"
    }
   ],
   "source": [
    "noshowdays(df_elderly_noshow,category='Elderly')"
   ]
  },
  {
   "cell_type": "markdown",
   "metadata": {},
   "source": [
    "<a id='conclusions'></a>\n",
    "## Conclusions\n",
    "**Insights:** <br>\n",
    "**Infant,Toddler,Child:** <br>\n",
    "For these three categories;\n",
    "* there's no disproportion among the genders \n",
    "* No appointment were made on saturday \n",
    "* Tuesdays and wednesdays have most appointments Turn Out \n",
    "* No concrete conclusion or inference could be made from the sms ,handicap,and scholarship variable as they both have similar     proportion   in patients who the default or  show for their appointment\n",
    "<br> For these three categories ,the factors to consider \n",
    "\n",
    "**Teen Category**<br>\n",
    "* The first gender disproportions were first noticed in this category with the female gender 2X appointment compared to their     male counterparts\n",
    "* Most Males That comes for scheduling ,do show up for their appointments,they have a higher show up rate compared to their       female counterparts\n",
    "* wednesdays and Tuesdays are the days with most recorded show ups, No appointments were made on saturday .\n",
    "* No concrete conclusion or inference could be made from the sms ,handicap,and scholarship variable as they both have similar     proportion   in patients who the default or  show for their appointment\n",
    "* No scheduling or apppointment were made on saturday\n",
    "\n",
    "**Adult,Senior Adult and Elderly:**<br>\n",
    "* The gender disproportions also continues , with the female recording 2X more scheduling compared to their male counterparts .\n",
    "* Show ups among the Male occur during the first 10 days appointment  ,and their are patients who defaulted in this period too\n",
    "* No concrete conclusion or inference could be made from the sms ,handicap,,alcoholism, hypertension,diabetes and scholarship     variables as they both have similar   proportion   in patients who the default or  show up  for their appointment.\n",
    "* No scheduling or apppointment were made on saturday\n",
    "<br>\n",
    "\n",
    "In conclusion,From the Analysis and Visualizations, The factors to be considered in predicting a No show Apppointments are\n",
    "* gender ,\n",
    "* days_apart,\n",
    "* appointment_day variables ,\n",
    "* and the age_groups categories each patient belongs too ,These will all be important  factors in predicting NO-show             appointments of patients :<br>\n",
    "\n",
    "**Note:** The neighbourhood variable will be an area where additional research could have been done .<br>\n",
    "\n",
    "**Project Limitation:**<br>\n",
    "* The Data would have been better analysed if there were variables that indicates the cause of visitations such as basic check   ups ,emergencies etc and a variable that   indicates patient who missed their appointment and then come back for               rescheduling.\n",
    "* The appointment_date variable was recorded as a date format ,which differs from the datetime formatting of the scheduling       date ,this would have helped if it was recorded as datetime as it might indicate the time patient tend to show up for their     appointments or rather when it is defaulted.\n",
    "\n",
    "\n",
    "\n"
   ]
  },
  {
   "cell_type": "code",
   "execution_count": 118,
   "metadata": {},
   "outputs": [
    {
     "data": {
      "text/plain": [
       "0"
      ]
     },
     "execution_count": 118,
     "metadata": {},
     "output_type": "execute_result"
    }
   ],
   "source": [
    "from subprocess import call\n",
    "call(['python', '-m', 'nbconvert', 'Investigate_a_Dataset.ipynb'])"
   ]
  }
 ],
 "metadata": {
  "kernelspec": {
   "display_name": "Python 3",
   "language": "python",
   "name": "python3"
  },
  "language_info": {
   "codemirror_mode": {
    "name": "ipython",
    "version": 3
   },
   "file_extension": ".py",
   "mimetype": "text/x-python",
   "name": "python",
   "nbconvert_exporter": "python",
   "pygments_lexer": "ipython3",
   "version": "3.6.3"
  }
 },
 "nbformat": 4,
 "nbformat_minor": 2
}
